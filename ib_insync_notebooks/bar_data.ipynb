{
 "cells": [
  {
   "cell_type": "markdown",
   "metadata": {},
   "source": [
    "# Bar data"
   ]
  },
  {
   "cell_type": "code",
   "execution_count": 16,
   "metadata": {},
   "outputs": [
    {
     "data": {
      "text/plain": [
       "<IB connected to 127.0.0.1:7497 clientId=20>"
      ]
     },
     "execution_count": 16,
     "metadata": {},
     "output_type": "execute_result"
    }
   ],
   "source": [
    "from ib_insync import *\n",
    "util.startLoop()\n",
    "\n",
    "ib = IB()\n",
    "ib.connect('127.0.0.1', 7497, clientId=20, readonly=True)"
   ]
  },
  {
   "cell_type": "markdown",
   "metadata": {},
   "source": [
    "## Historical data"
   ]
  },
  {
   "cell_type": "markdown",
   "metadata": {},
   "source": [
    "To get the earliest date of available bar data the \"head timestamp\" can be requested:"
   ]
  },
  {
   "cell_type": "code",
   "execution_count": 17,
   "metadata": {},
   "outputs": [
    {
     "data": {
      "text/plain": [
       "[ContractDetails(contract=Contract(secType='STK', conId=51529211, symbol='GLD', exchange='SMART', primaryExchange='ARCA', currency='USD', localSymbol='GLD', tradingClass='GLD'), marketName='GLD', minTick=0.01, orderTypes='ACTIVETIM,AD,ADJUST,ALERT,ALGO,ALLOC,AON,AVGCOST,BASKET,BENCHPX,COND,CONDORDER,DARKONLY,DARKPOLL,DAY,DEACT,DEACTDIS,DEACTEOD,DIS,GAT,GTC,GTD,GTT,HID,IBKRATS,ICE,IOC,LIT,LMT,LOC,MIDPX,MIT,MKT,MOC,MTL,NGCOMB,NODARK,NONALGO,OCA,OPG,OPGREROUT,PEGBENCH,POSTONLY,PREOPGRTH,REL,RTH,SCALE,SCALEODD,SCALERST,SNAPMID,SNAPMKT,SNAPREL,STP,STPLMT,SWEEP,TRAIL,TRAILLIT,TRAILLMT,TRAILMIT,WHATIF', validExchanges='SMART,AMEX,NYSE,CBOE,PHLX,ISE,CHX,ARCA,ISLAND,DRCTEDGE,BEX,BATS,EDGEA,CSFBALGO,JEFFALGO,BYX,IEX,EDGX,FOXRIVER,NYSENAT,PSX', priceMagnifier=1, underConId=0, longName='SPDR GOLD SHARES', contractMonth='', industry='', category='', subcategory='', timeZoneId='EST (Eastern Standard Time)', tradingHours='20200416:0400-20200416:2000;20200417:0400-20200417:2000;20200418:CLOSED;20200419:CLOSED;20200420:0400-20200420:2000;20200421:0400-20200421:2000;20200422:0400-20200422:2000;20200423:0400-20200423:2000;20200424:0400-20200424:2000;20200425:CLOSED;20200426:CLOSED;20200427:0400-20200427:2000;20200428:0400-20200428:2000;20200429:0400-20200429:2000;20200430:0400-20200430:2000;20200501:0400-20200501:2000;20200502:CLOSED;20200503:CLOSED;20200504:0400-20200504:2000;20200505:0400-20200505:2000;20200506:0400-20200506:2000;20200507:0400-20200507:2000;20200508:0400-20200508:2000;20200509:CLOSED;20200510:CLOSED;20200511:0400-20200511:2000;20200512:0400-20200512:2000;20200513:0400-20200513:2000;20200514:0400-20200514:2000;20200515:0400-20200515:2000;20200516:CLOSED;20200517:CLOSED;20200518:0400-20200518:2000;20200519:0400-20200519:2000;20200520:0400-20200520:2000', liquidHours='20200416:0930-20200416:1600;20200417:0930-20200417:1600;20200418:CLOSED;20200419:CLOSED;20200420:0930-20200420:1600;20200421:0930-20200421:1600;20200422:0930-20200422:1600;20200423:0930-20200423:1600;20200424:0930-20200424:1600;20200425:CLOSED;20200426:CLOSED;20200427:0930-20200427:1600;20200428:0930-20200428:1600;20200429:0930-20200429:1600;20200430:0930-20200430:1600;20200501:0930-20200501:1600;20200502:CLOSED;20200503:CLOSED;20200504:0930-20200504:1600;20200505:0930-20200505:1600;20200506:0930-20200506:1600;20200507:0930-20200507:1600;20200508:0930-20200508:1600;20200509:CLOSED;20200510:CLOSED;20200511:0930-20200511:1600;20200512:0930-20200512:1600;20200513:0930-20200513:1600;20200514:0930-20200514:1600;20200515:0930-20200515:1600;20200516:CLOSED;20200517:CLOSED;20200518:0930-20200518:1600;20200519:0930-20200519:1600;20200520:0930-20200520:1600', evRule='', evMultiplier=0, mdSizeMultiplier=100, aggGroup=1, underSymbol='', underSecType='', marketRuleIds='26,26,26,26,26,26,26,26,26,26,26,26,26,26,26,26,26,26,26,26,26', secIdList=[], realExpirationDate='', lastTradeTime='', stockType='ETF', cusip='', ratings='', descAppend='', bondType='', couponType='', callable=False, putable=False, coupon=0, convertible=False, maturity='', issueDate='', nextOptionDate='', nextOptionType='', nextOptionPartial=False, notes='')]"
      ]
     },
     "execution_count": 17,
     "metadata": {},
     "output_type": "execute_result"
    }
   ],
   "source": [
    "contract = Stock('GLD', 'SMART', 'USD')\n",
    "\n",
    "ib.reqHeadTimeStamp(contract, whatToShow='TRADES', useRTH=True)\n",
    "\n",
    "ib.reqContractDetails(contract)"
   ]
  },
  {
   "cell_type": "markdown",
   "metadata": {},
   "source": [
    "To request hourly data of the last 60 trading days:"
   ]
  },
  {
   "cell_type": "code",
   "execution_count": 18,
   "metadata": {},
   "outputs": [],
   "source": [
    "bars = ib.reqHistoricalData(\n",
    "        contract,\n",
    "        endDateTime='',\n",
    "        durationStr='60 D',\n",
    "        barSizeSetting='1 hour',\n",
    "        whatToShow='TRADES',\n",
    "        useRTH=True,\n",
    "        formatDate=1)"
   ]
  },
  {
   "cell_type": "code",
   "execution_count": 19,
   "metadata": {},
   "outputs": [
    {
     "data": {
      "text/plain": [
       "BarData(date=datetime.datetime(2020, 1, 22, 8, 30), open=146.68, high=146.81, low=146.54, close=146.69, volume=3316, average=146.683, barCount=1336)"
      ]
     },
     "execution_count": 19,
     "metadata": {},
     "output_type": "execute_result"
    }
   ],
   "source": [
    "bars[0]\n"
   ]
  },
  {
   "cell_type": "markdown",
   "metadata": {},
   "source": [
    "Convert the list of bars to a data frame and print the first and last rows:"
   ]
  },
  {
   "cell_type": "code",
   "execution_count": 23,
   "metadata": {},
   "outputs": [
    {
     "data": {
      "text/html": [
       "<div>\n",
       "<style scoped>\n",
       "    .dataframe tbody tr th:only-of-type {\n",
       "        vertical-align: middle;\n",
       "    }\n",
       "\n",
       "    .dataframe tbody tr th {\n",
       "        vertical-align: top;\n",
       "    }\n",
       "\n",
       "    .dataframe thead th {\n",
       "        text-align: right;\n",
       "    }\n",
       "</style>\n",
       "<table border=\"1\" class=\"dataframe\">\n",
       "  <thead>\n",
       "    <tr style=\"text-align: right;\">\n",
       "      <th></th>\n",
       "      <th>date</th>\n",
       "      <th>open</th>\n",
       "      <th>high</th>\n",
       "      <th>low</th>\n",
       "      <th>close</th>\n",
       "      <th>volume</th>\n",
       "      <th>average</th>\n",
       "      <th>barCount</th>\n",
       "    </tr>\n",
       "  </thead>\n",
       "  <tbody>\n",
       "    <tr>\n",
       "      <th>0</th>\n",
       "      <td>2020-01-22 08:30:00</td>\n",
       "      <td>146.68</td>\n",
       "      <td>146.81</td>\n",
       "      <td>146.54</td>\n",
       "      <td>146.69</td>\n",
       "      <td>3316</td>\n",
       "      <td>146.683</td>\n",
       "      <td>1336</td>\n",
       "    </tr>\n",
       "    <tr>\n",
       "      <th>1</th>\n",
       "      <td>2020-01-22 09:00:00</td>\n",
       "      <td>146.70</td>\n",
       "      <td>146.70</td>\n",
       "      <td>146.38</td>\n",
       "      <td>146.60</td>\n",
       "      <td>4619</td>\n",
       "      <td>146.501</td>\n",
       "      <td>2133</td>\n",
       "    </tr>\n",
       "    <tr>\n",
       "      <th>2</th>\n",
       "      <td>2020-01-22 10:00:00</td>\n",
       "      <td>146.60</td>\n",
       "      <td>146.70</td>\n",
       "      <td>146.45</td>\n",
       "      <td>146.51</td>\n",
       "      <td>4976</td>\n",
       "      <td>146.558</td>\n",
       "      <td>1534</td>\n",
       "    </tr>\n",
       "    <tr>\n",
       "      <th>3</th>\n",
       "      <td>2020-01-22 11:00:00</td>\n",
       "      <td>146.50</td>\n",
       "      <td>146.70</td>\n",
       "      <td>146.49</td>\n",
       "      <td>146.66</td>\n",
       "      <td>6128</td>\n",
       "      <td>146.642</td>\n",
       "      <td>2084</td>\n",
       "    </tr>\n",
       "    <tr>\n",
       "      <th>4</th>\n",
       "      <td>2020-01-22 12:00:00</td>\n",
       "      <td>146.66</td>\n",
       "      <td>146.72</td>\n",
       "      <td>146.54</td>\n",
       "      <td>146.60</td>\n",
       "      <td>3431</td>\n",
       "      <td>146.617</td>\n",
       "      <td>1256</td>\n",
       "    </tr>\n",
       "  </tbody>\n",
       "</table>\n",
       "</div>"
      ],
      "text/plain": [
       "                 date    open    high     low   close  volume  average  \\\n",
       "0 2020-01-22 08:30:00  146.68  146.81  146.54  146.69    3316  146.683   \n",
       "1 2020-01-22 09:00:00  146.70  146.70  146.38  146.60    4619  146.501   \n",
       "2 2020-01-22 10:00:00  146.60  146.70  146.45  146.51    4976  146.558   \n",
       "3 2020-01-22 11:00:00  146.50  146.70  146.49  146.66    6128  146.642   \n",
       "4 2020-01-22 12:00:00  146.66  146.72  146.54  146.60    3431  146.617   \n",
       "\n",
       "   barCount  \n",
       "0      1336  \n",
       "1      2133  \n",
       "2      1534  \n",
       "3      2084  \n",
       "4      1256  "
      ]
     },
     "metadata": {},
     "output_type": "display_data"
    },
    {
     "data": {
      "text/html": [
       "<div>\n",
       "<style scoped>\n",
       "    .dataframe tbody tr th:only-of-type {\n",
       "        vertical-align: middle;\n",
       "    }\n",
       "\n",
       "    .dataframe tbody tr th {\n",
       "        vertical-align: top;\n",
       "    }\n",
       "\n",
       "    .dataframe thead th {\n",
       "        text-align: right;\n",
       "    }\n",
       "</style>\n",
       "<table border=\"1\" class=\"dataframe\">\n",
       "  <thead>\n",
       "    <tr style=\"text-align: right;\">\n",
       "      <th></th>\n",
       "      <th>date</th>\n",
       "      <th>open</th>\n",
       "      <th>high</th>\n",
       "      <th>low</th>\n",
       "      <th>close</th>\n",
       "      <th>volume</th>\n",
       "      <th>average</th>\n",
       "      <th>barCount</th>\n",
       "    </tr>\n",
       "  </thead>\n",
       "  <tbody>\n",
       "    <tr>\n",
       "      <th>415</th>\n",
       "      <td>2020-04-16 10:00:00</td>\n",
       "      <td>162.36</td>\n",
       "      <td>162.52</td>\n",
       "      <td>161.72</td>\n",
       "      <td>162.02</td>\n",
       "      <td>9735</td>\n",
       "      <td>162.167</td>\n",
       "      <td>5745</td>\n",
       "    </tr>\n",
       "    <tr>\n",
       "      <th>416</th>\n",
       "      <td>2020-04-16 11:00:00</td>\n",
       "      <td>162.02</td>\n",
       "      <td>162.19</td>\n",
       "      <td>160.70</td>\n",
       "      <td>161.12</td>\n",
       "      <td>12335</td>\n",
       "      <td>161.322</td>\n",
       "      <td>7974</td>\n",
       "    </tr>\n",
       "    <tr>\n",
       "      <th>417</th>\n",
       "      <td>2020-04-16 12:00:00</td>\n",
       "      <td>161.12</td>\n",
       "      <td>161.64</td>\n",
       "      <td>160.65</td>\n",
       "      <td>161.07</td>\n",
       "      <td>11243</td>\n",
       "      <td>161.139</td>\n",
       "      <td>7825</td>\n",
       "    </tr>\n",
       "    <tr>\n",
       "      <th>418</th>\n",
       "      <td>2020-04-16 13:00:00</td>\n",
       "      <td>161.06</td>\n",
       "      <td>161.70</td>\n",
       "      <td>160.94</td>\n",
       "      <td>161.41</td>\n",
       "      <td>8092</td>\n",
       "      <td>161.320</td>\n",
       "      <td>5247</td>\n",
       "    </tr>\n",
       "    <tr>\n",
       "      <th>419</th>\n",
       "      <td>2020-04-16 14:00:00</td>\n",
       "      <td>161.41</td>\n",
       "      <td>161.83</td>\n",
       "      <td>161.30</td>\n",
       "      <td>161.71</td>\n",
       "      <td>10396</td>\n",
       "      <td>161.550</td>\n",
       "      <td>6891</td>\n",
       "    </tr>\n",
       "  </tbody>\n",
       "</table>\n",
       "</div>"
      ],
      "text/plain": [
       "                   date    open    high     low   close  volume  average  \\\n",
       "415 2020-04-16 10:00:00  162.36  162.52  161.72  162.02    9735  162.167   \n",
       "416 2020-04-16 11:00:00  162.02  162.19  160.70  161.12   12335  161.322   \n",
       "417 2020-04-16 12:00:00  161.12  161.64  160.65  161.07   11243  161.139   \n",
       "418 2020-04-16 13:00:00  161.06  161.70  160.94  161.41    8092  161.320   \n",
       "419 2020-04-16 14:00:00  161.41  161.83  161.30  161.71   10396  161.550   \n",
       "\n",
       "     barCount  \n",
       "415      5745  \n",
       "416      7974  \n",
       "417      7825  \n",
       "418      5247  \n",
       "419      6891  "
      ]
     },
     "metadata": {},
     "output_type": "display_data"
    }
   ],
   "source": [
    "#import pandas as pd\n",
    "\n",
    "df = util.df(bars)\n",
    "\n",
    "display(df.head())\n",
    "display(df.tail())"
   ]
  },
  {
   "cell_type": "markdown",
   "metadata": {},
   "source": [
    "Instruct the notebook to draw plot graphics inline:"
   ]
  },
  {
   "cell_type": "code",
   "execution_count": 7,
   "metadata": {},
   "outputs": [],
   "source": [
    "%matplotlib inline"
   ]
  },
  {
   "cell_type": "markdown",
   "metadata": {},
   "source": [
    "Plot the close data"
   ]
  },
  {
   "cell_type": "code",
   "execution_count": 24,
   "metadata": {},
   "outputs": [
    {
     "data": {
      "image/png": "[encoded data removed]",
      "text/plain": [
       "<Figure size 432x288 with 1 Axes>"
      ]
     },
     "metadata": {
      "needs_background": "light"
     },
     "output_type": "display_data"
    }
   ],
   "source": [
    "df.plot(y='close');"
   ]
  },
  {
   "cell_type": "markdown",
   "metadata": {},
   "source": [
    "There is also a utility function to plot bars as a candlestick plot. It can accept either a DataFrame or a list of bars. Here it will print the last 100 bars:"
   ]
  },
  {
   "cell_type": "code",
   "execution_count": 25,
   "metadata": {
    "scrolled": true
   },
   "outputs": [
    {
     "data": {
      "image/png": "[encoded data removed]",
      "text/plain": [
       "<Figure size 720x432 with 1 Axes>"
      ]
     },
     "metadata": {
      "needs_background": "light"
     },
     "output_type": "display_data"
    }
   ],
   "source": [
    "util.barplot(bars[-100:], title=contract.symbol);"
   ]
  },
  {
   "cell_type": "markdown",
   "metadata": {},
   "source": [
    "## Historical data with realtime updates\n",
    "\n",
    "A new feature of the API is to get live updates for historical bars. This is done by setting `endDateTime` to an empty string and the `keepUpToDate` parameter to `True`.\n",
    "\n",
    "Let's get some bars with an keepUpToDate subscription:"
   ]
  },
  {
   "cell_type": "code",
   "execution_count": 29,
   "metadata": {},
   "outputs": [
    {
     "data": {
      "image/png": "[encoded data removed]",
      "text/plain": [
       "<Figure size 720x432 with 1 Axes>"
      ]
     },
     "execution_count": 29,
     "metadata": {},
     "output_type": "execute_result"
    },
    {
     "data": {
      "image/png": "[encoded data removed]",
      "text/plain": [
       "<Figure size 720x432 with 1 Axes>"
      ]
     },
     "metadata": {
      "needs_background": "light"
     },
     "output_type": "display_data"
    }
   ],
   "source": [
    "contract = Forex('EURUSD')\n",
    "\n",
    "bars = ib.reqHistoricalData(\n",
    "        contract,\n",
    "        endDateTime='',\n",
    "        durationStr='900 S',\n",
    "        barSizeSetting='10 secs',\n",
    "        whatToShow='MIDPOINT',\n",
    "        useRTH=True,\n",
    "        formatDate=1,\n",
    "        keepUpToDate=True)\n",
    "\n",
    "util.barplot( bars[-100:],title='EURUSD')"
   ]
  },
  {
   "cell_type": "markdown",
   "metadata": {},
   "source": [
    "Replot for every change of the last bar:"
   ]
  },
  {
   "cell_type": "code",
   "execution_count": 30,
   "metadata": {
    "scrolled": true
   },
   "outputs": [
    {
     "data": {
      "image/png": "[encoded data removed]",
      "text/plain": [
       "<Figure size 720x432 with 1 Axes>"
      ]
     },
     "metadata": {},
     "output_type": "display_data"
    },
    {
     "data": {
      "image/png": "[encoded data removed]",
      "text/plain": [
       "<Figure size 720x432 with 1 Axes>"
      ]
     },
     "metadata": {
      "needs_background": "light"
     },
     "output_type": "display_data"
    },
    {
     "name": "stderr",
     "output_type": "stream",
     "text": [
      "Error 162, reqId 9: Historical Market Data Service error message:API historical data query cancelled: 9\n"
     ]
    }
   ],
   "source": [
    "from IPython.display import display, clear_output\n",
    "import matplotlib.pyplot as plt\n",
    "\n",
    "def onBarUpdate(bars, hasNewBar):\n",
    "    plt.close()\n",
    "    plot = util.barplot(bars)\n",
    "    clear_output(wait=True)\n",
    "    display(plot)\n",
    "\n",
    "bars.updateEvent += onBarUpdate\n",
    "\n",
    "ib.sleep(10)\n",
    "ib.cancelHistoricalData(bars)"
   ]
  },
  {
   "cell_type": "markdown",
   "metadata": {},
   "source": [
    "Realtime bars\n",
    "------------------\n",
    "\n",
    "With ``reqRealTimeBars`` a subscription is started that sends a new bar every 5 seconds.\n",
    "\n",
    "First we'll set up a event handler for bar updates:"
   ]
  },
  {
   "cell_type": "code",
   "execution_count": 31,
   "metadata": {},
   "outputs": [],
   "source": [
    "def onBarUpdate(bars, hasNewBar):\n",
    "    print(bars[-1])"
   ]
  },
  {
   "cell_type": "markdown",
   "metadata": {},
   "source": [
    "Then do the real request and connect the event handler,"
   ]
  },
  {
   "cell_type": "code",
   "execution_count": 32,
   "metadata": {},
   "outputs": [],
   "source": [
    "bars = ib.reqRealTimeBars(contract, 5, 'MIDPOINT', False)\n",
    "bars.updateEvent += onBarUpdate"
   ]
  },
  {
   "cell_type": "markdown",
   "metadata": {},
   "source": [
    "let it run for half a minute and then cancel the realtime bars."
   ]
  },
  {
   "cell_type": "code",
   "execution_count": 33,
   "metadata": {},
   "outputs": [
    {
     "name": "stdout",
     "output_type": "stream",
     "text": [
      "RealTimeBar(time=datetime.datetime(2020, 4, 17, 3, 45, 40, tzinfo=datetime.timezone.utc), endTime=-1, open_=1.086805, high=1.08682, low=1.086805, close=1.086815, volume=-1, wap=-1.0, count=-1)\n",
      "RealTimeBar(time=datetime.datetime(2020, 4, 17, 3, 45, 45, tzinfo=datetime.timezone.utc), endTime=-1, open_=1.086815, high=1.08684, low=1.08681, close=1.086825, volume=-1, wap=-1.0, count=-1)\n",
      "RealTimeBar(time=datetime.datetime(2020, 4, 17, 3, 45, 50, tzinfo=datetime.timezone.utc), endTime=-1, open_=1.086825, high=1.086855, low=1.086825, close=1.086825, volume=-1, wap=-1.0, count=-1)\n",
      "RealTimeBar(time=datetime.datetime(2020, 4, 17, 3, 45, 55, tzinfo=datetime.timezone.utc), endTime=-1, open_=1.086825, high=1.08683, low=1.08678, close=1.086815, volume=-1, wap=-1.0, count=-1)\n",
      "RealTimeBar(time=datetime.datetime(2020, 4, 17, 3, 46, tzinfo=datetime.timezone.utc), endTime=-1, open_=1.086815, high=1.086815, low=1.086775, close=1.086785, volume=-1, wap=-1.0, count=-1)\n",
      "RealTimeBar(time=datetime.datetime(2020, 4, 17, 3, 46, 5, tzinfo=datetime.timezone.utc), endTime=-1, open_=1.08678, high=1.08678, low=1.08678, close=1.08678, volume=-1, wap=-1.0, count=-1)\n"
     ]
    }
   ],
   "source": [
    "ib.sleep(30)\n",
    "ib.cancelRealTimeBars(bars)"
   ]
  },
  {
   "cell_type": "markdown",
   "metadata": {},
   "source": [
    "The advantage of reqRealTimeBars is that it behaves more robust when the connection to the IB server farms is interrupted. After the connection is restored, the bars from during the network outage will be backfilled and the live bars will resume.\n",
    "\n",
    "reqHistoricalData + keepUpToDate will, at the moment of writing, leave the whole API inoperable after a network interruption."
   ]
  },
  {
   "cell_type": "code",
   "execution_count": 34,
   "metadata": {},
   "outputs": [],
   "source": [
    "ib.disconnect()"
   ]
  },
  {
   "cell_type": "code",
   "execution_count": null,
   "metadata": {},
   "outputs": [],
   "source": []
  }
 ],
 "metadata": {
  "kernelspec": {
   "display_name": "Python 3",
   "language": "python",
   "name": "python3"
  },
  "language_info": {
   "codemirror_mode": {
    "name": "ipython",
    "version": 3
   },
   "file_extension": ".py",
   "mimetype": "text/x-python",
   "name": "python",
   "nbconvert_exporter": "python",
   "pygments_lexer": "ipython3",
   "version": "3.6.10"
  }
 },
 "nbformat": 4,
 "nbformat_minor": 4
}
