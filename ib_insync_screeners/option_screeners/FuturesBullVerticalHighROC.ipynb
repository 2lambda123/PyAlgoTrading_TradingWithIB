{
 "cells": [
  {
   "cell_type": "markdown",
   "metadata": {},
   "source": [
    "Option chains\n",
    "======="
   ]
  },
  {
   "cell_type": "code",
   "execution_count": 4,
   "metadata": {
    "scrolled": true
   },
   "outputs": [],
   "source": [
    "from ib_insync import *\n",
    "\n",
    "from datetime import datetime, timezone, timedelta\n",
    "\n",
    "import pandas as pd\n"
   ]
  },
  {
   "cell_type": "code",
   "execution_count": 5,
   "metadata": {},
   "outputs": [],
   "source": [
    "underlying_symbol='CL'\n",
    "\n",
    "#underlying filters\n",
    "months_forward = 3\n",
    "min_option_open_interest = 100000\n",
    "min_iv_rank = .10 #10% = .10\n",
    "\n",
    "#option strategy filters\n",
    "pct_under_px_range = .20 # scan strikes under this % below cunderlying price \n",
    "num_month_expiries = 3 #expires forward\n",
    "max_risk = 2000 # max loss\n",
    "min_profit = 200 #max profit\n",
    "ask_tws_load =True #ask wheter to load strategies"
   ]
  },
  {
   "cell_type": "markdown",
   "metadata": {},
   "source": [
    "We want to find high ROC credit bull PUT verticals for future contracts, in 'underlying_symbol' underlyings that comply with :\n",
    "\n",
    "* future contracts for months forward up to 'months_forward'\n",
    "* Average option volume > 'min_option_volume'.\n",
    "* Iv rank > min_iv_rank\n",
    "\n",
    "After previous filter, scan option chains for remaining underlyings:\n",
    "\n",
    "* Explore up to 'num_month_expiries' monthly option expiries forward from current date.\n",
    "* Scan combinations of strike prices starting from smallest strike to  (ATM - 'pct_under_px_range'% ) range. Zero explores all available strike combinations.\n",
    "* Limit risk to 'max_risk' USD (which influences allowable distance between strikes).\n",
    "\n",
    "Notes:\n",
    "1. If notional value of a naked put strategy is less than 'max_risk' then switch to naked put strategy (do not buy 2long leg).\n",
    "2. Order resulting strategies descending on 'Return on Capital' (MaxProfit / Margin ).\n",
    "3. If 'ask_tws_load==True', user will be prompted to load strategies on TWS.\n",
    "4. Only OTM options will be scaned (strikes below current price)\n"
   ]
  },
  {
   "cell_type": "code",
   "execution_count": 6,
   "metadata": {},
   "outputs": [
    {
     "data": {
      "text/plain": [
       "<IB connected to 127.0.0.1:7497 clientId=15>"
      ]
     },
     "execution_count": 6,
     "metadata": {},
     "output_type": "execute_result"
    }
   ],
   "source": [
    "util.startLoop()\n",
    "\n",
    "ib = IB()\n",
    "ib.connect('127.0.0.1', 7497, clientId=15, readonly = True)"
   ]
  },
  {
   "cell_type": "markdown",
   "metadata": {},
   "source": [
    "**Search future contracts on 'underlying_symbol' commodity with filters: 'months_forward', 'min_option_volume', 'min_iv_rank'**"
   ]
  },
  {
   "cell_type": "code",
   "execution_count": 7,
   "metadata": {},
   "outputs": [
    {
     "data": {
      "text/plain": [
       "datetime.datetime(2020, 8, 18, 13, 44, 10, 788492)"
      ]
     },
     "execution_count": 7,
     "metadata": {},
     "output_type": "execute_result"
    }
   ],
   "source": [
    "#get 'months_forward' month expiration datetime\n",
    "curdate = datetime.now()\n",
    "three_months = timedelta( weeks=months_forward*4 )\n",
    "expiration_limit = curdate + three_months\n",
    "\n",
    "expiration_limit"
   ]
  },
  {
   "cell_type": "code",
   "execution_count": 8,
   "metadata": {},
   "outputs": [
    {
     "name": "stdout",
     "output_type": "stream",
     "text": [
      "128 contracts found related to CL\n"
     ]
    }
   ],
   "source": [
    "contracts = []\n",
    "\n",
    "contract = Future(symbol=underlying_symbol, exchange='NYMEX', currency='USD')\n",
    "\n",
    "contracts = ib.reqContractDetails(contract)\n",
    "\n",
    "print('{} contracts found related to {}'.format( len(contracts), underlying_symbol ) )"
   ]
  },
  {
   "cell_type": "markdown",
   "metadata": {},
   "source": [
    "**Filter by months_forward**"
   ]
  },
  {
   "cell_type": "code",
   "execution_count": 9,
   "metadata": {},
   "outputs": [
    {
     "name": "stdout",
     "output_type": "stream",
     "text": [
      "2 contracts after months_forward = 3 filter\n"
     ]
    },
    {
     "data": {
      "text/plain": [
       "[Contract(secType='FUT', conId=174230633, symbol='CL', lastTradeDateOrContractMonth='20200721', multiplier='1000', exchange='NYMEX', currency='USD', localSymbol='CLQ0', tradingClass='CL'),\n",
       " Contract(secType='FUT', conId=174230636, symbol='CL', lastTradeDateOrContractMonth='20200622', multiplier='1000', exchange='NYMEX', currency='USD', localSymbol='CLN0', tradingClass='CL')]"
      ]
     },
     "execution_count": 9,
     "metadata": {},
     "output_type": "execute_result"
    }
   ],
   "source": [
    "filteredContracts = []\n",
    "\n",
    "for c in contracts:\n",
    "    contract_exp = pd.to_datetime( c.contract.lastTradeDateOrContractMonth,  format='%Y%m%d' )\n",
    "    if contract_exp < expiration_limit:\n",
    "        filteredContracts.append(c.contract)\n",
    "\n",
    "print( '{} contracts after months_forward = {} filter'.format( len( filteredContracts ), months_forward ) )\n",
    "\n",
    "filteredContracts"
   ]
  },
  {
   "cell_type": "markdown",
   "metadata": {},
   "source": [
    "**Filter by minimum open interest**\n",
    "\n",
    "This needs market data subscription."
   ]
  },
  {
   "cell_type": "code",
   "execution_count": 10,
   "metadata": {},
   "outputs": [
    {
     "data": {
      "text/plain": [
       "True"
      ]
     },
     "execution_count": 10,
     "metadata": {},
     "output_type": "execute_result"
    }
   ],
   "source": [
    "tickers = {}\n",
    "\n",
    "#generickTickList:\n",
    "# 101: call option open interest, put option open interest\n",
    "# 105: avOptionVolume (not used, not working)\n",
    "# 106: impliedvolatility\n",
    "\n",
    "#TODO: this might fail for larger contract lists \n",
    "for c in filteredContracts:\n",
    "    tickers.update( { c.conId : ib.reqMktData( c, genericTickList='101,105,106' ) } )\n",
    "\n",
    "#wait a couple of seconds for ticker info to be filled\n",
    "ib.sleep( 2 )"
   ]
  },
  {
   "cell_type": "markdown",
   "metadata": {},
   "source": [
    "Get sum call + put open interest and filter"
   ]
  },
  {
   "cell_type": "code",
   "execution_count": 11,
   "metadata": {},
   "outputs": [
    {
     "name": "stdout",
     "output_type": "stream",
     "text": [
      "2 contracts after min_option_open_interest = 100000 \n"
     ]
    }
   ],
   "source": [
    "for c in filteredContracts:\n",
    "    ticker = tickers[ c.conId ]\n",
    "    if (ticker.putOpenInterest + ticker.callOpenInterest) < min_option_open_interest:\n",
    "        filteredContracts.remove( ticker.contract )\n",
    "        ib.cancelMktData( ticker.contract )\n",
    "        tickers.remove( c.conId )\n",
    "        \n",
    "print( '{} contracts after min_option_open_interest = {} '.format( len(filteredContracts), min_option_open_interest ) )"
   ]
  },
  {
   "cell_type": "markdown",
   "metadata": {},
   "source": [
    "**Filter by IV rank**"
   ]
  },
  {
   "cell_type": "code",
   "execution_count": 12,
   "metadata": {},
   "outputs": [
    {
     "data": {
      "text/plain": [
       "True"
      ]
     },
     "execution_count": 12,
     "metadata": {},
     "output_type": "execute_result"
    }
   ],
   "source": [
    "#get IV historical bars\n",
    "\n",
    "histBars = {}\n",
    "\n",
    "for c in filteredContracts:\n",
    "    bars = ib.reqHistoricalData(\n",
    "            c,\n",
    "            endDateTime='',\n",
    "            durationStr='256 D',\n",
    "            barSizeSetting='1 day',\n",
    "            whatToShow='OPTION_IMPLIED_VOLATILITY',\n",
    "            useRTH=True,\n",
    "            formatDate=1)\n",
    "    \n",
    "    histBars.update( { c.conId : bars} )\n",
    "    \n",
    "ib.sleep(2)\n"
   ]
  },
  {
   "cell_type": "code",
   "execution_count": 13,
   "metadata": {},
   "outputs": [
    {
     "name": "stdout",
     "output_type": "stream",
     "text": [
      "IV rank for 174230633 contract: 0.3014510358321232\n",
      "IV rank for 174230636 contract: 0.23303539570299792\n"
     ]
    }
   ],
   "source": [
    "#highest 53 W IV\n",
    "ivHighs = {}\n",
    "#current IV\n",
    "ivCurrents = {}\n",
    "#curent 52 W IV rank\n",
    "ivRanks = {}\n",
    "\n",
    "#get highest IV / IV rank\n",
    "for c in filteredContracts:\n",
    "    curHistBars = histBars[ c.conId ]\n",
    "    sortedBars = sorted( curHistBars, key=lambda bar: bar.close, reverse=True )\n",
    "    ivHighs.update( { c.conId : sortedBars[0].close } )\n",
    "    ivCurrents.update( { c.conId : curHistBars[-1].close } )\n",
    "    print( 'IV rank for {} contract: {}'.format( c.conId, curHistBars[-1].close / sortedBars[0].close ) )\n",
    "    ivRanks.update( { c.conId : curHistBars[-1].close / sortedBars[0].close } )\n",
    "    \n"
   ]
  },
  {
   "cell_type": "code",
   "execution_count": 14,
   "metadata": {},
   "outputs": [
    {
     "name": "stdout",
     "output_type": "stream",
     "text": [
      "2 contracts surpased iv rank minumum if 0.1\n"
     ]
    }
   ],
   "source": [
    "for c in filteredContracts:\n",
    "    if ivRanks[ c.conId ] < min_iv_rank:\n",
    "        filteredContracts.remove(c)\n",
    "        tickers.remove( c.conId )\n",
    "        ib.cancelMktData( c )\n",
    "        \n",
    "        \n",
    "print( '{} contracts surpased iv rank minumum if {}'.format(len(filteredContracts), min_iv_rank ) )\n",
    "            "
   ]
  },
  {
   "cell_type": "markdown",
   "metadata": {},
   "source": [
    "**At this point screener has discriminated future contracts by:**\n",
    "\n",
    "    * Expiration.\n",
    "    * Open Interest (Put+Call Option contracts).\n",
    "    * 52 week IV rank."
   ]
  },
  {
   "cell_type": "markdown",
   "metadata": {},
   "source": [
    "**Request option chains for remaining contracts**"
   ]
  },
  {
   "cell_type": "code",
   "execution_count": 15,
   "metadata": {},
   "outputs": [
    {
     "name": "stdout",
     "output_type": "stream",
     "text": [
      "2 chains found\n"
     ]
    }
   ],
   "source": [
    "chains = {}\n",
    "\n",
    "for c in filteredContracts:\n",
    "    chains.update( { c.conId : ib.reqSecDefOptParams(c.symbol, c.exchange, c.secType, c.conId ) } )\n",
    "\n",
    "print('{} chains found'.format( len(chains) ) )\n",
    "\n",
    "#util.df(chains)"
   ]
  },
  {
   "cell_type": "markdown",
   "metadata": {},
   "source": [
    "From this point on we can build all PUT  option contracts that meet our conditions (Naked puts / Bull Put Spreads).\n",
    "\n",
    "Detail of implemented algorithm:\n",
    "  \n",
    "1. Iterate over stock option 'chains', select first chain.\n",
    "  1. filter the expirations list, limit to up to 3 month expirations.\n",
    "  2. filter strike list, limit to strikes below 'pct_under_px_range'\n",
    "  3. Explore remaining strike / expiriation combinations in filtered option chains:\n",
    "     1. **Expirations loop**. Iterate over expirations, select first expiration (might be only one per chain):\n",
    "        1.  **Leg 1 loop**. Iterate over strikes, select leg 1 strike.\n",
    "            1. Combine selected strike with current expiration from outer loop.\n",
    "            2. Build Option contract.\n",
    "            3. Request market data (price) for 1st leg ontract.\n",
    "            4. Create combo leg 1. Fix for going to inner loop.\n",
    "            5. Cancel market data (if not we would reach ticker limit), enter inner loop.\n",
    "                 1. **Leg 2 loop**. Iterate over strikes, select leg 2 strike\n",
    "                     1. Is strike < combo leg 1 strike? No : Discard / iterate again, Yes: Select it.\n",
    "                     2. Combine selected strike with current expiration from outer loop\n",
    "                     3. Build Option contract.\n",
    "                     4. Request market data (price) for 2nd leg contract.\n",
    "                     5. Cancel market data.\n",
    "                     6. Create 'COMBO' order,  request 'whatif' for price / margin information.\n",
    "                     7. Calculate max profit, max loss, ROC from price / margin result.\n",
    "                     8. Is maximum profit > 'min_profit' from screener parameters? No: Discard.\n",
    "                     9. Is maximum loss > 'max_risk' from screener parameters? Yes: Discard.\n",
    "                     10. Is resulting ROC better than previous iteration? No: Discard, Yes: Save as 'l3RocWinner'.\n",
    "                     11. Continue loop to step  1 in **Leg 2 loop**\n",
    "            6. Is 'l3RocWinner' ROC better than last 'l2RocWinner'?  Yes, Save as 'l2RocWinner'\n",
    "            7. Save last 'l3RocWinner' in 'L3RocWinners'.\n",
    "            8. Continue loop to step 1 in **Leg 1 loop**.\n",
    "        2. Is 'l2RocWinner' ROC better than last 'l1RocWinner'? Yes, save as 'l1RocWinner'.\n",
    "        3. Continue loop to step 1 in **Expirations loop**\n",
    "  4. Results are stored in 'RocWinners' variables:\n",
    "     * L3RocWinners: List of best Roc combos per short leg strike\n",
    "     * L2RocWinners: List of best Roc combos per expiration\n",
    "     * L1RocWinner: Best strategy overall          "
   ]
  },
  {
   "cell_type": "code",
   "execution_count": 16,
   "metadata": {},
   "outputs": [
    {
     "data": {
      "text/plain": [
       "datetime.datetime(2020, 8, 18, 13, 44, 17, 664140)"
      ]
     },
     "execution_count": 16,
     "metadata": {},
     "output_type": "execute_result"
    }
   ],
   "source": [
    "# prepare 'num_month_expiries' datetime object\n",
    "curdate = datetime.now()\n",
    "delta_forward = timedelta( weeks = num_month_expiries*4 )\n",
    "option_expiration_limit = curdate + delta_forward\n",
    "\n",
    "option_expiration_limit"
   ]
  },
  {
   "cell_type": "markdown",
   "metadata": {},
   "source": [
    "**Filter option chains by strikes / epxirations**"
   ]
  },
  {
   "cell_type": "code",
   "execution_count": 17,
   "metadata": {},
   "outputs": [
    {
     "name": "stdout",
     "output_type": "stream",
     "text": [
      "current price for contract 174230633 : 34.78\n",
      "current price for contract 174230636 : 34.34\n"
     ]
    }
   ],
   "source": [
    "# filter chains strikes / expirations:\n",
    "\n",
    "adjustedContractChains = {}\n",
    "\n",
    "for c in filteredContracts:\n",
    "    adjustedChains = []\n",
    "    curChains = chains[ c.conId  ]\n",
    "    curPrice = tickers[ c.conId ].marketPrice() # might need to replace by 'saved' value\n",
    "    print( 'current price for contract {} : {}'.format( c.conId, curPrice ) )\n",
    "    \n",
    "    for chain in curChains:\n",
    "        \n",
    "        expdate = pd.to_datetime( chain.expirations[ 0 ]  )\n",
    "        \n",
    "        # expiration within range? (suppose sorted already)\n",
    "        if( expdate < option_expiration_limit ):\n",
    "            #filter strikes ('pct_under_px_range')\n",
    "            newstrikes = [ s for s in chain.strikes if s > ( curPrice * ( 1 - pct_under_px_range ) ) and s <= curPrice ]\n",
    "                        \n",
    "            #OptionChain is 'NamedTuple' (not mutable)\n",
    "            adjustedChain = OptionChain( chain.exchange, \n",
    "                                        chain.underlyingConId,\n",
    "                                        chain.tradingClass,\n",
    "                                        chain.multiplier,\n",
    "                                        newstrikes,\n",
    "                                        chain.expirations )\n",
    "            #adjustedChain.strikes = newstrikes\n",
    "            adjustedChains.append( adjustedChain )\n",
    "    \n",
    "    adjustedContractChains.update( { c.conId : adjustedChains } )"
   ]
  },
  {
   "cell_type": "markdown",
   "metadata": {},
   "source": [
    "**Create L1/L2 combo orders, calculate prices, filter by min_profit, max_loss**"
   ]
  },
  {
   "cell_type": "code",
   "execution_count": 66,
   "metadata": {},
   "outputs": [
    {
     "data": {
      "text/plain": [
       "24"
      ]
     },
     "execution_count": 66,
     "metadata": {},
     "output_type": "execute_result"
    }
   ],
   "source": [
    "# screened contracts will be placed here, one list per contract\n",
    "# { conId : { combo : orderState } }\n",
    "screenedCombos = {}\n",
    "\n",
    "# Create / Filter comboss\n",
    "for c in filteredContracts:\n",
    "\n",
    "    for chain in adjustedContractChains[ c.conId ]:\n",
    "        \n",
    "            #combo orders for current contract\n",
    "            comboOrders = []\n",
    "            \n",
    "            #suppose only 1 expiration per chain\n",
    "            comboContracts = [Option(c.symbol, chain.expiration[0], strike, 'P', c.exchange, chain.expirations[0] )\n",
    "                    for strike in chain.strikes]\n",
    "\n",
    "            comboContracts = ib.qualifyContracts( *comboContracts )\n",
    "            \n",
    "            # should be less than 100 requests (request limit)\n",
    "            [ comboTickers ] = ib.reqTickers( *comboContracts )\n",
    "\n",
    "            #wait for tickers to be filled \n",
    "            ib.sleep(2)\n",
    "            \n",
    "            print( '{} tickers received out of {} for combo leg 1 contracts'.format( ) )\n",
    "            \n",
    "            # ---- leg1 loop ----\n",
    "            for leg1Ticker in comboTickers:\n",
    "                leg1Price = leg1Ticker.marketPrice()\n",
    "                leg1Strike = leg1Ticker.contract.strike\n",
    "                 # early filter leg1 by min_profit\n",
    "                if( leg1Price < min_profit ):\n",
    "                    ib.cancelMktData( ticker.contract )\n",
    "                    comboContracts.remove(ticker.contract)\n",
    "                else:\n",
    "                    #fix leg 1\n",
    "                    leg1 = ComboLeg(conId=leg1Ticker.contract.conId , \n",
    "                                    ratio= 1, \n",
    "                                    action='SELL', \n",
    "                                    exchange=leg1Ticker.contract.exchange )\n",
    "                    # ---- leg 2 loop ----\n",
    "                    for leg2Ticker in comboTickers:\n",
    "                        leg2Strike = leg2Ticker.contract.strike\n",
    "                        if( leg2Ticker.contract.strike < leg1Strike ):\n",
    "                            leg2Price = leg2Ticker.marketPrice()\n",
    "                            #leg2 hedge should cost less than leg1\n",
    "                            comboPrice = leg1Price - leg2Price\n",
    "                            if ( leg1Strike - leg2Strike ) * chain.multiplier < max_loss and\n",
    "                               ( comboPrice  * chain.multiplier ) > min_profit:\n",
    "                                    \n",
    "                                    leg2 = ComboLeg( conId=leg2Ticker.contract.conId,  \n",
    "                                                    ratio=1,\n",
    "                                                    action='BUY',\n",
    "                                                    exchange=leg2Ticker.contract.exchange )\n",
    "                                    \n",
    "                                    #create 'combo contract'\n",
    "                                    combo = Contract( symbol=leg1Ticker.ticker.symbol,#check!! \n",
    "                                                     secType='BAG', \n",
    "                                                     currency='USD', \n",
    "                                                     exchange=leg1Ticker.contract.exchange, \n",
    "                                                     comboLegs=[leg1, leg2])\n",
    "                                    \n",
    "                                    order = LimitOrder( action=\"BUY\", \n",
    "                                                       totalQuantity = 1, \n",
    "                                                       lmtPrice= comboPrice )\n",
    "                                    \n",
    "                                    \n",
    "                                    orderState = ib.whatIfOrder( combo, order )\n",
    "                                    \n",
    "                                    #should be able to get leg details via ib.qualifyContracts\n",
    "                                    comboOrders.update( { combo : orderState } )\n",
    "                                    \n",
    "            print( '{} combos found for contract id : {}'.format( len(comboOrders), c.conId ) )\n",
    "            screenedCombos.update( { c.conId: comboOrders } )"
   ]
  },
  {
   "cell_type": "markdown",
   "metadata": {},
   "source": [
    "The option greeks are available from the ``modelGreeks`` attribute, and if there is a bid, ask resp. last price available also from ``bidGreeks``, ``askGreeks`` and ``lastGreeks``. For streaming ticks the greek values will be kept up to date to the current market situation."
   ]
  },
  {
   "cell_type": "code",
   "execution_count": 70,
   "metadata": {},
   "outputs": [
    {
     "name": "stdout",
     "output_type": "stream",
     "text": [
      "True\n",
      "OptionComputation(impliedVol=0.2996510031175316, delta=-0.2505361266671315, optPrice=1.4199999570846558, pvDividend=0.0, gamma=0.03425643599844212, vega=0.09614354874490338, theta=-0.3672188996639118, undPrice=296.030029296875)\n"
     ]
    }
   ],
   "source": [
    "print(legOneTicker.hasBidAsk())\n",
    "\n",
    "print(legOneTicker.lastGreeks)"
   ]
  },
  {
   "cell_type": "markdown",
   "metadata": {},
   "source": [
    "build first combo leg"
   ]
  },
  {
   "cell_type": "code",
   "execution_count": 71,
   "metadata": {},
   "outputs": [],
   "source": [
    "comboLegOne = ComboLeg(conId=legOne.conId, ratio= 1, action='SELL', exchange='SMART' )\n"
   ]
  },
  {
   "cell_type": "markdown",
   "metadata": {},
   "source": [
    "Select second put contract as second leg"
   ]
  },
  {
   "cell_type": "code",
   "execution_count": 72,
   "metadata": {},
   "outputs": [
    {
     "data": {
      "text/plain": [
       "Option(conId=415769250, symbol='SPY', lastTradeDateOrContractMonth='20200522', strike=280.0, right='P', multiplier='100', exchange='SMART', currency='USD', localSymbol='SPY   200522P00280000', tradingClass='SPY')"
      ]
     },
     "execution_count": 72,
     "metadata": {},
     "output_type": "execute_result"
    }
   ],
   "source": [
    "legTwo = putContracts[16]\n",
    "\n",
    "[ legTwoTicker ] = ib.reqTickers( legTwo )\n",
    "\n",
    "legTwo"
   ]
  },
  {
   "cell_type": "code",
   "execution_count": 84,
   "metadata": {},
   "outputs": [
    {
     "name": "stdout",
     "output_type": "stream",
     "text": [
      "leg two ask 0.36\n",
      "leg two bid 0.35\n",
      "leg one ask 1.43\n",
      "leg two ask 1.42\n"
     ]
    }
   ],
   "source": [
    "\n",
    "print( 'leg two ask', legTwoTicker.ask )\n",
    "\n",
    "print( 'leg two bid', legTwoTicker.bid )\n",
    "\n",
    "print( 'leg one ask', legOneTicker.ask )\n",
    "\n",
    "print( 'leg two ask', legOneTicker.bid )\n"
   ]
  },
  {
   "cell_type": "markdown",
   "metadata": {},
   "source": [
    "The option greeks are available from the ``modelGreeks`` attribute, and if there is a bid, ask resp. last price available also from ``bidGreeks``, ``askGreeks`` and ``lastGreeks``. For streaming ticks the greek values will be kept up to date to the current market situation."
   ]
  },
  {
   "cell_type": "code",
   "execution_count": 75,
   "metadata": {},
   "outputs": [
    {
     "name": "stdout",
     "output_type": "stream",
     "text": [
      "True\n",
      "OptionComputation(impliedVol=0.3656978235015641, delta=-0.07013157712085653, optPrice=0.36000001430511475, pvDividend=0.0, gamma=0.011849231376148921, vega=0.03895589495174473, theta=-0.1896778776512994, undPrice=296.0400085449219)\n"
     ]
    }
   ],
   "source": [
    "print( legTwoTicker.hasBidAsk() )\n",
    "\n",
    "print(legTwoTicker.lastGreeks)"
   ]
  },
  {
   "cell_type": "markdown",
   "metadata": {},
   "source": [
    "Build second combo leg"
   ]
  },
  {
   "cell_type": "code",
   "execution_count": 76,
   "metadata": {},
   "outputs": [],
   "source": [
    "comboLegTwo = ComboLeg(conId=legTwo.conId, ratio=1, action='BUY', exchange='SMART')"
   ]
  },
  {
   "cell_type": "code",
   "execution_count": 77,
   "metadata": {},
   "outputs": [],
   "source": [
    "combo = Contract( symbol=spx.symbol, secType='BAG', currency='USD', exchange='SMART', comboLegs=[comboLegOne, comboLegTwo] )\n"
   ]
  },
  {
   "cell_type": "markdown",
   "metadata": {},
   "source": [
    "Submit the order, do not transmit, get order price / margin information (use 'whatif' flag)... this might need market data"
   ]
  },
  {
   "cell_type": "code",
   "execution_count": 51,
   "metadata": {},
   "outputs": [],
   "source": [
    "aproxPrice = legOneTicker.last - legTwoTicker.last\n",
    "\n",
    "#get 'whatif'\n",
    "order = LimitOrder( action=\"BUY\", totalQuantity = 1, lmtPrice= aproxPrice )\n",
    "\n",
    "\n",
    "#this will have the effect of adding the order to\n",
    "# tws 'Activity' pane\n",
    "comboStatus = ib.whatIfOrder( combo, order )\n"
   ]
  },
  {
   "cell_type": "code",
   "execution_count": 78,
   "metadata": {},
   "outputs": [
    {
     "data": {
      "text/plain": [
       "OrderState(status='PreSubmitted', initMarginBefore='3615.67', maintMarginBefore='3615.67', equityWithLoanBefore='1019599.0', initMarginChange='1000.0', maintMarginChange='1000.0', equityWithLoanChange='-119.18999999994412', initMarginAfter='4615.67', maintMarginAfter='4615.67', equityWithLoanAfter='1019479.81', commission=1.7976931348623157e+308, minCommission=1.293038, maxCommission=3.193038, commissionCurrency='USD', warningText='', completedTime='', completedStatus='')"
      ]
     },
     "execution_count": 78,
     "metadata": {},
     "output_type": "execute_result"
    }
   ],
   "source": [
    "comboStatus"
   ]
  },
  {
   "cell_type": "code",
   "execution_count": 80,
   "metadata": {},
   "outputs": [],
   "source": [
    "#'verify price'\n",
    "IbOrder = LimitOrder( action='BUY', totalQuantity=1, transmit=False, lmtPrice=aproxPrice)\n",
    "\n",
    "trade = ib.placeOrder( combo, IbOrder )\n"
   ]
  },
  {
   "cell_type": "code",
   "execution_count": 11,
   "metadata": {},
   "outputs": [],
   "source": [
    "ib.disconnect()"
   ]
  }
 ],
 "metadata": {
  "kernelspec": {
   "display_name": "Python 3",
   "language": "python",
   "name": "python3"
  },
  "language_info": {
   "codemirror_mode": {
    "name": "ipython",
    "version": 3
   },
   "file_extension": ".py",
   "mimetype": "text/x-python",
   "name": "python",
   "nbconvert_exporter": "python",
   "pygments_lexer": "ipython3",
   "version": "3.6.10"
  }
 },
 "nbformat": 4,
 "nbformat_minor": 4
}
