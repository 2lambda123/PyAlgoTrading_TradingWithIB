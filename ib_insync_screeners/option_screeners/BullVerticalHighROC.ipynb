{
 "cells": [
  {
   "cell_type": "markdown",
   "metadata": {},
   "source": [
    "Option chains\n",
    "======="
   ]
  },
  {
   "cell_type": "code",
   "execution_count": 1,
   "metadata": {
    "scrolled": true
   },
   "outputs": [],
   "source": [
    "from ib_insync import *\n",
    "import pandas as pd\n",
    "\n",
    "#underlying filters\n",
    "min_market_cap= 2000\n",
    "min_option_volume = 10000\n",
    "min_iv_rank = 15\n",
    "\n",
    "#option strategy filters\n",
    "pct_under_px_range = 20\n",
    "num_month_expiries = 3\n",
    "max_risk = 2000\n",
    "min_profit = 200\n",
    "ask_tws_load =True\n",
    "\n"
   ]
  },
  {
   "cell_type": "markdown",
   "metadata": {},
   "source": [
    "We want to find high ROC credit bull PUT verticals within the S&P500 constituents list, in underlyings that comply with :\n",
    "\n",
    "* Market cap > 'min_market_cap'.\n",
    "* Average option volume > 'min_option_volume'.\n",
    "* Iv rank > min_iv_rank\n",
    "\n",
    "After previous filter, scan option chains for remaining underlyings:\n",
    "\n",
    "* Explore up to 'num_month_expiries' monthly expiries forward from current date.\n",
    "* Scan combinations of strike prices starting from smallest strike to  (ATM - 'pct_under_px_range'% ) range. Zero explores all available strike combinations.\n",
    "* Limit risk to 'max_risk' USD (which influences allowable distance between strikes).\n",
    "\n",
    "Notes:\n",
    "1. If notional value of a naked put strategy is less than 'max_risk' then switch to naked put strategy (do not buy long leg).\n",
    "2. Order resulting strategies descending on 'Return on Capital' (MaxProfit / Margin ).\n",
    "3. If 'ask_tws_load==True', user will be prompted to load strategies on TWS.\n",
    "4. Only OTM options will be scaned (strikes below current price)\n",
    "\n",
    "\n",
    "Get list of SP500 constituents, look for 'getSp500Constituents.py' in parent folders in order to refresh csv list file. Order descending by market cap, then sample first 'constituents_slice'"
   ]
  },
  {
   "cell_type": "code",
   "execution_count": 66,
   "metadata": {},
   "outputs": [
    {
     "name": "stdout",
     "output_type": "stream",
     "text": [
      "Index(['Symbol', 'Name', 'Sector', 'Price', 'Price/Earnings', 'Dividend Yield',\n",
      "       'Earnings/Share', '52 Week Low', '52 Week High', 'Market Cap', 'EBITDA',\n",
      "       'Price/Sales', 'Price/Book', 'SEC Filings'],\n",
      "      dtype='object')\n"
     ]
    },
    {
     "data": {
      "text/html": [
       "<div>\n",
       "<style scoped>\n",
       "    .dataframe tbody tr th:only-of-type {\n",
       "        vertical-align: middle;\n",
       "    }\n",
       "\n",
       "    .dataframe tbody tr th {\n",
       "        vertical-align: top;\n",
       "    }\n",
       "\n",
       "    .dataframe thead th {\n",
       "        text-align: right;\n",
       "    }\n",
       "</style>\n",
       "<table border=\"1\" class=\"dataframe\">\n",
       "  <thead>\n",
       "    <tr style=\"text-align: right;\">\n",
       "      <th></th>\n",
       "      <th>Symbol</th>\n",
       "      <th>Market Cap</th>\n",
       "    </tr>\n",
       "  </thead>\n",
       "  <tbody>\n",
       "    <tr>\n",
       "      <th>51</th>\n",
       "      <td>AAPL</td>\n",
       "      <td>809508034020</td>\n",
       "    </tr>\n",
       "    <tr>\n",
       "      <th>27</th>\n",
       "      <td>GOOGL</td>\n",
       "      <td>733823966137</td>\n",
       "    </tr>\n",
       "    <tr>\n",
       "      <th>28</th>\n",
       "      <td>GOOG</td>\n",
       "      <td>728535558140</td>\n",
       "    </tr>\n",
       "    <tr>\n",
       "      <th>311</th>\n",
       "      <td>MSFT</td>\n",
       "      <td>689978437468</td>\n",
       "    </tr>\n",
       "    <tr>\n",
       "      <th>30</th>\n",
       "      <td>AMZN</td>\n",
       "      <td>685873374731</td>\n",
       "    </tr>\n",
       "    <tr>\n",
       "      <th>187</th>\n",
       "      <td>FB</td>\n",
       "      <td>523423036576</td>\n",
       "    </tr>\n",
       "    <tr>\n",
       "      <th>263</th>\n",
       "      <td>JPM</td>\n",
       "      <td>386613611000</td>\n",
       "    </tr>\n",
       "    <tr>\n",
       "      <th>261</th>\n",
       "      <td>JNJ</td>\n",
       "      <td>353062464971</td>\n",
       "    </tr>\n",
       "    <tr>\n",
       "      <th>185</th>\n",
       "      <td>XOM</td>\n",
       "      <td>326148660000</td>\n",
       "    </tr>\n",
       "    <tr>\n",
       "      <th>66</th>\n",
       "      <td>BAC</td>\n",
       "      <td>321478200969</td>\n",
       "    </tr>\n",
       "  </tbody>\n",
       "</table>\n",
       "</div>"
      ],
      "text/plain": [
       "    Symbol    Market Cap\n",
       "51    AAPL  809508034020\n",
       "27   GOOGL  733823966137\n",
       "28    GOOG  728535558140\n",
       "311   MSFT  689978437468\n",
       "30    AMZN  685873374731\n",
       "187     FB  523423036576\n",
       "263    JPM  386613611000\n",
       "261    JNJ  353062464971\n",
       "185    XOM  326148660000\n",
       "66     BAC  321478200969"
      ]
     },
     "execution_count": 66,
     "metadata": {},
     "output_type": "execute_result"
    }
   ],
   "source": [
    "df = pd.read_csv( '../sp500Constituents.csv', index_col=0 )\n",
    "\n",
    "print( df.columns )\n",
    "\n",
    "sp500_constituents = df[['Symbol', 'Market Cap'] ]\n",
    "\n",
    "sp500_marketCap = sp500_constituents.sort_values( by = 'Market Cap', ascending=False, axis = 0 )\n",
    "\n",
    "sp500_marketCap = sp500_marketCap[ : constituents_slice ]\n",
    "\n",
    "sp500_marketCap\n"
   ]
  },
  {
   "cell_type": "markdown",
   "metadata": {},
   "source": [
    "**Connecto to IB**"
   ]
  },
  {
   "cell_type": "code",
   "execution_count": 67,
   "metadata": {},
   "outputs": [
    {
     "data": {
      "text/plain": [
       "<IB connected to 127.0.0.1:7497 clientId=18>"
      ]
     },
     "execution_count": 67,
     "metadata": {},
     "output_type": "execute_result"
    }
   ],
   "source": [
    "#start ib_insync loop\n",
    "util.startLoop()\n",
    "\n",
    "ib = IB()\n",
    "ib.connect('127.0.0.1', 7497, clientId=18, readonly=True )\n"
   ]
  },
  {
   "cell_type": "markdown",
   "metadata": {},
   "source": [
    "**Request contracts for SP500 subset**"
   ]
  },
  {
   "cell_type": "code",
   "execution_count": 68,
   "metadata": {},
   "outputs": [
    {
     "data": {
      "text/plain": [
       "array(['AAPL', 'GOOGL', 'GOOG', 'MSFT', 'AMZN', 'FB', 'JPM', 'JNJ', 'XOM',\n",
       "       'BAC'], dtype=object)"
      ]
     },
     "execution_count": 68,
     "metadata": {},
     "output_type": "execute_result"
    }
   ],
   "source": [
    "symbols = sp500_marketCap[ 'Symbol' ].values\n",
    "\n",
    "symbols"
   ]
  },
  {
   "cell_type": "markdown",
   "metadata": {},
   "source": [
    "**Create contract for each stock in the subset**"
   ]
  },
  {
   "cell_type": "code",
   "execution_count": 69,
   "metadata": {},
   "outputs": [
    {
     "data": {
      "text/plain": [
       "[Stock(symbol='AAPL', exchange='SMART', currency='USD'),\n",
       " Stock(symbol='GOOGL', exchange='SMART', currency='USD'),\n",
       " Stock(symbol='GOOG', exchange='SMART', currency='USD'),\n",
       " Stock(symbol='MSFT', exchange='SMART', currency='USD'),\n",
       " Stock(symbol='AMZN', exchange='SMART', currency='USD'),\n",
       " Stock(symbol='FB', exchange='SMART', currency='USD'),\n",
       " Stock(symbol='JPM', exchange='SMART', currency='USD'),\n",
       " Stock(symbol='JNJ', exchange='SMART', currency='USD'),\n",
       " Stock(symbol='XOM', exchange='SMART', currency='USD'),\n",
       " Stock(symbol='BAC', exchange='SMART', currency='USD')]"
      ]
     },
     "execution_count": 69,
     "metadata": {},
     "output_type": "execute_result"
    }
   ],
   "source": [
    "\n",
    "Contracts = [ Stock( s, 'SMART', currency='USD' ) for s in symbols ]\n",
    "\n",
    "Contracts"
   ]
  },
  {
   "cell_type": "markdown",
   "metadata": {},
   "source": [
    "**Request contract validation**"
   ]
  },
  {
   "cell_type": "code",
   "execution_count": 70,
   "metadata": {},
   "outputs": [
    {
     "data": {
      "text/plain": [
       "[Stock(conId=265598, symbol='AAPL', exchange='SMART', primaryExchange='NASDAQ', currency='USD', localSymbol='AAPL', tradingClass='NMS'),\n",
       " Stock(conId=208813719, symbol='GOOGL', exchange='SMART', primaryExchange='NASDAQ', currency='USD', localSymbol='GOOGL', tradingClass='NMS'),\n",
       " Stock(conId=208813720, symbol='GOOG', exchange='SMART', primaryExchange='NASDAQ', currency='USD', localSymbol='GOOG', tradingClass='NMS'),\n",
       " Stock(conId=272093, symbol='MSFT', exchange='SMART', primaryExchange='NASDAQ', currency='USD', localSymbol='MSFT', tradingClass='NMS'),\n",
       " Stock(conId=3691937, symbol='AMZN', exchange='SMART', primaryExchange='NASDAQ', currency='USD', localSymbol='AMZN', tradingClass='NMS'),\n",
       " Stock(conId=107113386, symbol='FB', exchange='SMART', primaryExchange='NASDAQ', currency='USD', localSymbol='FB', tradingClass='NMS'),\n",
       " Stock(conId=1520593, symbol='JPM', exchange='SMART', primaryExchange='NYSE', currency='USD', localSymbol='JPM', tradingClass='JPM'),\n",
       " Stock(conId=8719, symbol='JNJ', exchange='SMART', primaryExchange='NYSE', currency='USD', localSymbol='JNJ', tradingClass='JNJ'),\n",
       " Stock(conId=13977, symbol='XOM', exchange='SMART', primaryExchange='NYSE', currency='USD', localSymbol='XOM', tradingClass='XOM'),\n",
       " Stock(conId=10098, symbol='BAC', exchange='SMART', primaryExchange='NYSE', currency='USD', localSymbol='BAC', tradingClass='BAC')]"
      ]
     },
     "execution_count": 70,
     "metadata": {},
     "output_type": "execute_result"
    }
   ],
   "source": [
    "ib.qualifyContracts( *Contracts )"
   ]
  },
  {
   "cell_type": "markdown",
   "metadata": {},
   "source": [
    "**Case no live market data permissions, use delayed data:**"
   ]
  },
  {
   "cell_type": "code",
   "execution_count": 15,
   "metadata": {},
   "outputs": [],
   "source": [
    "#ib.reqMarketDataType(1)"
   ]
  },
  {
   "cell_type": "markdown",
   "metadata": {},
   "source": [
    "**Get the tickers for each of the stock contracts. Requesting each ticker can take up to 11 seconds.**"
   ]
  },
  {
   "cell_type": "code",
   "execution_count": 71,
   "metadata": {},
   "outputs": [
    {
     "name": "stdout",
     "output_type": "stream",
     "text": [
      " 10 tickers returned out of 10 requested\n"
     ]
    }
   ],
   "source": [
    "tickers = []\n",
    "\n",
    "for contract in Contracts:\n",
    "    #105: avOptionVolume\n",
    "    ticker = ib.reqMktData( contract, '105' )\n",
    "    tickers.append(ticker)\n",
    "    \n",
    "print( ' {} tickers returned out of {} requested'.format( len(tickers), len(Contracts) ) )\n",
    "    \n",
    "#[tickers] = [  ib.reqTickers( *Contracts )]"
   ]
  },
  {
   "cell_type": "markdown",
   "metadata": {},
   "source": [
    "**Apply option volume filter using ticker option volume data**\n",
    "\n",
    "filter contracts array"
   ]
  },
  {
   "cell_type": "code",
   "execution_count": 85,
   "metadata": {},
   "outputs": [],
   "source": [
    "# apply option volume filter\n",
    "\n",
    "filteredTickers = { ticker.contract.symbol: ticker for ticker in tickers if ticker.avOptionVolume > min_option_volume }\n",
    "\n",
    "filteredContracts = { symbol: ticker.contract for ( symbol, ticker ) in filteredTickers.items()  }"
   ]
  },
  {
   "cell_type": "markdown",
   "metadata": {},
   "source": [
    "**Request market prices for remaining stocks**\n",
    "\n",
    "Create price dictionary"
   ]
  },
  {
   "cell_type": "code",
   "execution_count": 86,
   "metadata": {},
   "outputs": [],
   "source": [
    "filteredPrices = { symbol : ticker.last for ( symbol, ticker ) in filteredTickers.items()  }"
   ]
  },
  {
   "cell_type": "markdown",
   "metadata": {},
   "source": [
    "**Get filtered option chains for each contract, filter by 'SMART' exchange**"
   ]
  },
  {
   "cell_type": "code",
   "execution_count": 88,
   "metadata": {},
   "outputs": [
    {
     "name": "stdout",
     "output_type": "stream",
     "text": [
      " 10 chains found of 10 requested\n"
     ]
    }
   ],
   "source": [
    "chains = []\n",
    "\n",
    "for ( symbol, contract ) in filteredContracts.items():\n",
    "    #request al chaing\n",
    "    raw_chains = ib.reqSecDefOptParams(contract.symbol, '', contract.secType, contract.conId)\n",
    "    #limit to 'SMART' exchange\n",
    "    chains.append( [ chain for chain in raw_chains if chain.exchange == 'SMART' ] )\n",
    "\n",
    "print( ' {} chains found of {} requested'.format( len(chains), len(filteredContracts) ) )"
   ]
  },
  {
   "cell_type": "markdown",
   "metadata": {},
   "source": [
    "From this we can build all PUT  option contracts that meet our conditions (Bull PUTS).\n",
    "  \n",
    "1. Iterate over stock option 'chains', select first chain.\n",
    "  1. Slice the expirations list, limit to up to 3 month expirations.\n",
    "  2. Slice strike list, limit to strikes below 'pct_under_px_range'\n",
    "  3. Explore remaining strike / expiriation combinations:\n",
    "     1. **Expirations LOOP**. Iterate over expirations, select first expiration:\n",
    "        1.  **Leg 1 LOOP**. Iterate over strikes, select leg 1 strike.\n",
    "            1. Combine selected strike with current expiration from outer loop.\n",
    "            2. Build Option contract.\n",
    "            3. Request market data (price) for 1st leg ontract.\n",
    "            4. Create combo leg 1. Fix for going to inner loop.\n",
    "            5. Cancel market data (if not we would reach ticker limit), enter inner loop.\n",
    "                 1. **Leg 2 LOOP**. Iterate over strikes, select leg 2 strike\n",
    "                     1. Is strike < combo leg 1 strike? No : Discard / iterate again, Yes: Select it.\n",
    "                     2. Combine selected strike with current expiration from outer loop\n",
    "                     3. Build Option contract.\n",
    "                     4. Request market data (price) for 2nd leg contract.\n",
    "                     5. Cancel market data.\n",
    "                     6. Create 'COMBO' order,  request 'whatif' for price / margin information.\n",
    "                     7. Calculate max profit, max loss, ROC from price / margin result.\n",
    "                     8. Is max profit > 'min_profit' from screener parameters? Yes: Discard.\n",
    "                     9. Is max loss > 'max_risk' from screener parameters? Yes: Discard.\n",
    "                     10. Is resulting ROC bigger than previous iteration? No: Discard, Yes: Save as 'l3RocWinner'.\n",
    "            6. Is 'l3RocWinner' ROC better than last 'l2RocWinner'?  Yes, Save as 'l2RocWinner'\n",
    "            7. Save last 'l3RocWinner' in 'L3RocWinners'.\n",
    "            8. Continue to step 1 in **Leg 1 Loop**.\n",
    "        2. Is 'l2RocWinner' ROC better than last 'l1RocWinner'? Yes, save as 'l1RocWinner'.\n",
    "        3. Continue to step 1 in **Expirations LOOP*\n",
    "  4. Results are stored in 'RocWinners' variables:\n",
    "     * L3RocWinners: List of best Roc combos per short leg strike\n",
    "     * L2RocWinners: List of best Roc combos per expiration\n",
    "     * L1RocWinner: Best strategy overall\n"
   ]
  },
  {
   "cell_type": "code",
   "execution_count": 37,
   "metadata": {},
   "outputs": [
    {
     "data": {
      "text/plain": [
       "24"
      ]
     },
     "execution_count": 37,
     "metadata": {},
     "output_type": "execute_result"
    }
   ],
   "source": [
    "strikes = [strike for strike in chain.strikes\n",
    "        if strike % 5 == 0\n",
    "        and spxValue - 20 < strike < spxValue + 20]\n",
    "expirations = sorted(exp for exp in chain.expirations)[:3]\n",
    "rights = ['P']\n",
    "\n",
    "putContracts = [Option('SPY', expiration, strike, right, 'SMART', tradingClass='SPY')\n",
    "        for right in rights\n",
    "        for expiration in expirations\n",
    "        for strike in strikes]\n",
    "\n",
    "contracts = ib.qualifyContracts(*putContracts)\n",
    "len(putContracts)"
   ]
  },
  {
   "cell_type": "markdown",
   "metadata": {},
   "source": [
    "Select one PUT option contract as 1st leg"
   ]
  },
  {
   "cell_type": "code",
   "execution_count": 38,
   "metadata": {},
   "outputs": [
    {
     "data": {
      "text/plain": [
       "Option(conId=395613643, symbol='SPY', lastTradeDateOrContractMonth='20200515', strike=285.0, right='P', multiplier='100', exchange='SMART', currency='USD', localSymbol='SPY   200515P00285000', tradingClass='SPY')"
      ]
     },
     "execution_count": 38,
     "metadata": {},
     "output_type": "execute_result"
    }
   ],
   "source": [
    "\n",
    "legOne = putContracts[18]\n",
    "\n",
    "[ legOneTicker ] = ib.reqTickers( legOne )\n",
    "\n",
    "legOne"
   ]
  },
  {
   "cell_type": "code",
   "execution_count": 39,
   "metadata": {},
   "outputs": [
    {
     "data": {
      "text/plain": [
       "1.33"
      ]
     },
     "execution_count": 39,
     "metadata": {},
     "output_type": "execute_result"
    }
   ],
   "source": [
    "#legOneTicker.marketPrice()\n",
    "\n",
    "legOneTicker.last"
   ]
  },
  {
   "cell_type": "markdown",
   "metadata": {},
   "source": [
    "The option greeks are available from the ``modelGreeks`` attribute, and if there is a bid, ask resp. last price available also from ``bidGreeks``, ``askGreeks`` and ``lastGreeks``. For streaming ticks the greek values will be kept up to date to the current market situation."
   ]
  },
  {
   "cell_type": "code",
   "execution_count": 40,
   "metadata": {},
   "outputs": [
    {
     "name": "stdout",
     "output_type": "stream",
     "text": [
      "False\n",
      "OptionComputation(impliedVol=0.27076148001280376, delta=-0.21056694838358245, optPrice=1.3300000429153442, pvDividend=0.0, gamma=0.026528949606368722, vega=0.12413070886139477, theta=-0.22764889614627715, undPrice=293.3999938964844)\n"
     ]
    }
   ],
   "source": [
    "print(legOneTicker.hasBidAsk())\n",
    "\n",
    "print(legOneTicker.lastGreeks)"
   ]
  },
  {
   "cell_type": "markdown",
   "metadata": {},
   "source": [
    "build first combo leg"
   ]
  },
  {
   "cell_type": "code",
   "execution_count": 41,
   "metadata": {},
   "outputs": [],
   "source": [
    "comboLegOne = ComboLeg(conId=legOne.conId, ratio= 1, action='SELL', exchange='SMART' )\n"
   ]
  },
  {
   "cell_type": "markdown",
   "metadata": {},
   "source": [
    "Select second put contract as second leg"
   ]
  },
  {
   "cell_type": "code",
   "execution_count": 42,
   "metadata": {},
   "outputs": [
    {
     "data": {
      "text/plain": [
       "Option(conId=395613633, symbol='SPY', lastTradeDateOrContractMonth='20200515', strike=275.0, right='P', multiplier='100', exchange='SMART', currency='USD', localSymbol='SPY   200515P00275000', tradingClass='SPY')"
      ]
     },
     "execution_count": 42,
     "metadata": {},
     "output_type": "execute_result"
    }
   ],
   "source": [
    "legTwo = putContracts[16]\n",
    "\n",
    "[ legTwoTicker ] = ib.reqTickers( legTwo )\n",
    "\n",
    "legTwo"
   ]
  },
  {
   "cell_type": "code",
   "execution_count": 43,
   "metadata": {},
   "outputs": [
    {
     "data": {
      "text/plain": [
       "0.41"
      ]
     },
     "execution_count": 43,
     "metadata": {},
     "output_type": "execute_result"
    }
   ],
   "source": [
    "legTwoTicker.last"
   ]
  },
  {
   "cell_type": "raw",
   "metadata": {},
   "source": [
    "The option greeks are available from the ``modelGreeks`` attribute, and if there is a bid, ask resp. last price available also from ``bidGreeks``, ``askGreeks`` and ``lastGreeks``. For streaming ticks the greek values will be kept up to date to the current market situation."
   ]
  },
  {
   "cell_type": "code",
   "execution_count": 44,
   "metadata": {},
   "outputs": [
    {
     "name": "stdout",
     "output_type": "stream",
     "text": [
      "False\n",
      "None\n"
     ]
    }
   ],
   "source": [
    "5"
   ]
  },
  {
   "cell_type": "markdown",
   "metadata": {},
   "source": [
    "Build second combo leg"
   ]
  },
  {
   "cell_type": "code",
   "execution_count": 45,
   "metadata": {},
   "outputs": [],
   "source": [
    "comboLegTwo = ComboLeg(conId=legTwo.conId, ratio=1, action='BUY', exchange='SMART')"
   ]
  },
  {
   "cell_type": "markdown",
   "metadata": {},
   "source": [
    "Build Contract"
   ]
  },
  {
   "cell_type": "code",
   "execution_count": 46,
   "metadata": {},
   "outputs": [],
   "source": [
    "combo = Contract( symbol=spx.symbol, secType='BAG', currency='USD', exchange='SMART', comboLegs=[comboLegOne, comboLegTwo] )\n",
    "\n",
    "\n",
    "#not valid since I think 'BAG' type of contracts don't really have a contract ID\n",
    "#ib.qualifyContracts( combo )\n"
   ]
  },
  {
   "cell_type": "markdown",
   "metadata": {},
   "source": [
    "Request combo ticker... So far unable to get last price or any info"
   ]
  },
  {
   "cell_type": "code",
   "execution_count": 47,
   "metadata": {},
   "outputs": [],
   "source": [
    "#Seems like \"combo\" type contracts do not have tickers available\n",
    "# (this means we might need to compute price and other parameters manually\n",
    "# from leg parameters )\n",
    "\n",
    "[comboTicker] = ib.reqTickers( combo )\n",
    "\n"
   ]
  },
  {
   "cell_type": "code",
   "execution_count": 48,
   "metadata": {},
   "outputs": [
    {
     "name": "stdout",
     "output_type": "stream",
     "text": [
      "False\n"
     ]
    },
    {
     "data": {
      "text/plain": [
       "nan"
      ]
     },
     "execution_count": 48,
     "metadata": {},
     "output_type": "execute_result"
    }
   ],
   "source": [
    "print( comboTicker.hasBidAsk() )\n",
    "\n",
    "comboTicker.last\n",
    "\n",
    "#comboTicker.hasBidAsk()"
   ]
  },
  {
   "cell_type": "markdown",
   "metadata": {},
   "source": [
    "Create / Prepare (save?) combo order, should be visible in TWS"
   ]
  },
  {
   "cell_type": "code",
   "execution_count": 49,
   "metadata": {},
   "outputs": [
    {
     "data": {
      "text/plain": [
       "Trade(contract=Contract(secType='BAG', symbol='SPY', exchange='SMART', currency='USD', comboLegs=[ComboLeg(conId=395613643, ratio=1, action='SELL', exchange='SMART', openClose=0, shortSaleSlot=0, designatedLocation='', exemptCode=-1), ComboLeg(conId=395613633, ratio=1, action='BUY', exchange='SMART', openClose=0, shortSaleSlot=0, designatedLocation='', exemptCode=-1)]), order=MarketOrder(orderId=33, clientId=15, action='BUY', totalQuantity=1, transmit=False), orderStatus=OrderStatus(orderId=33, status='PendingSubmit', filled=0, remaining=0, avgFillPrice=0.0, permId=0, parentId=0, lastFillPrice=0.0, clientId=0, whyHeld='', mktCapPrice=0.0, lastLiquidity=0), fills=[], log=[TradeLogEntry(time=datetime.datetime(2020, 5, 8, 22, 22, 6, 850990, tzinfo=datetime.timezone.utc), status='PendingSubmit', message='')])"
      ]
     },
     "execution_count": 49,
     "metadata": {},
     "output_type": "execute_result"
    },
    {
     "name": "stderr",
     "output_type": "stream",
     "text": [
      "Error 1100, reqId -1: Connectivity between IB and Trader Workstation has been lost.\n",
      "Error 1102, reqId -1: Connectivity between IB and Trader Workstation has been restored - data maintained. The following farms are connected: . The following farms are not connected: usfarm.nj; usfuture; cashfarm; usopt; usfarm; ushmds; secdefnj.\n",
      "Peer closed connection\n"
     ]
    }
   ],
   "source": [
    "#! [market]\n",
    "\n",
    "order = MarketOrder( action=\"BUY\", totalQuantity = 1, transmit=False )\n",
    "\n",
    "\n",
    "#this will have the effect of adding the order to\n",
    "# tws 'Activity' pane\n",
    "trade = ib.placeOrder( combo, order )\n",
    "        "
   ]
  },
  {
   "cell_type": "code",
   "execution_count": 29,
   "metadata": {},
   "outputs": [],
   "source": [
    "ib.disconnect()"
   ]
  }
 ],
 "metadata": {
  "kernelspec": {
   "display_name": "Python 3",
   "language": "python",
   "name": "python3"
  },
  "language_info": {
   "codemirror_mode": {
    "name": "ipython",
    "version": 3
   },
   "file_extension": ".py",
   "mimetype": "text/x-python",
   "name": "python",
   "nbconvert_exporter": "python",
   "pygments_lexer": "ipython3",
   "version": "3.6.10"
  }
 },
 "nbformat": 4,
 "nbformat_minor": 4
}
