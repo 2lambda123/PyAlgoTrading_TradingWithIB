{
 "cells": [
  {
   "cell_type": "markdown",
   "metadata": {},
   "source": [
    "BULL VERTICAL SCREENER\n",
    "======="
   ]
  },
  {
   "cell_type": "markdown",
   "metadata": {},
   "source": [
    "We want to find high ROC credit bull PUT verticals within the S&P500 constituents list, in underlyings that comply with :\n",
    "\n",
    "* Market cap > 'min_market_cap'.\n",
    "* Average option volume > 'min_option_volume'.\n",
    "* Iv rank > min_iv_rank     <===== TODO!!!!!\n",
    "* minimum days to earnings > min_days_to_earnings (Wall Street Horizons subscription is needed)\n",
    "\n",
    "After previous filter, scan option chains for remaining underlyings:\n",
    "\n",
    "* Explore up to 'num_month_expiries' monthly expiries forward from current date.\n",
    "* Scan combinations of strike prices starting from smallest strike to  (ATM - 'pct_under_px_range'% ) range. Zero explores all available strike combinations.\n",
    "* Limit risk to 'max_risk' USD (which influences allowable distance between strikes).\n",
    "\n",
    "Notes:\n",
    "1. If notional value of a naked put strategy is less than 'max_risk' then switch to naked put strategy (do not buy long leg).\n",
    "2. Order resulting strategies descending on 'Return on Capital' (MaxProfit / Margin ).\n",
    "3. If 'ask_tws_load==True', user will be prompted to load strategies on TWS.\n",
    "4. Only OTM options will be scaned (strikes below current price)\n",
    "\n",
    "\n",
    "Get list of SP500 constituents, look for 'getSp500Constituents.py' in parent folders in order to refresh csv list file. Order descending by market cap, then sample first 'constituents_slice'"
   ]
  },
  {
   "cell_type": "code",
   "execution_count": 54,
   "metadata": {
    "scrolled": true
   },
   "outputs": [],
   "source": [
    "from ib_insync import *\n",
    "import pandas as pd\n",
    "\n",
    "import xml.etree.ElementTree as ET\n",
    "\n",
    "from datetime import datetime, timezone, timedelta\n",
    "\n",
    "\n",
    "\n",
    "#underlying filters\n",
    "min_market_cap= 2000 #minimum market capital in USD Millions Dollars\n",
    "constituents_slice = 2 # After minimum market cap ordering / filtering scan up to to this number of securities\n",
    "min_option_volume = 10000 #minimum average daily option volume\n",
    "min_iv_rank = 15 # min 52 weeks Implied Volatility Rank (%)\n",
    "min_days_to_earnings = 45 #minimum days to next earnings report\n",
    "\n",
    "#option strategy filters\n",
    "pct_under_px_range = .20 # scan strikes under this % below market price for underlying \n",
    "num_month_expiries = 3 #monthly expires forward\n",
    "max_loss = 2000 # max loss\n",
    "min_profit = 200 #min profit\n",
    "ask_tws_load =True  #ask wheter to load strategies\n"
   ]
  },
  {
   "cell_type": "markdown",
   "metadata": {},
   "source": [
    "## SP500 Contituents scan \n",
    "\n",
    "Create a subset of S7P500 index constituents by applying pre defined 'min_market_cap' and 'constituents_slice' filters"
   ]
  },
  {
   "cell_type": "code",
   "execution_count": 55,
   "metadata": {},
   "outputs": [
    {
     "name": "stdout",
     "output_type": "stream",
     "text": [
      "Index(['Unnamed: 0', 'Name', 'Sector', 'Price', 'Price/Earnings',\n",
      "       'Dividend Yield', 'Earnings/Share', '52 Week Low', '52 Week High',\n",
      "       'Market Cap', 'EBITDA', 'Price/Sales', 'Price/Book', 'SEC Filings'],\n",
      "      dtype='object')\n"
     ]
    }
   ],
   "source": [
    "df = pd.read_csv( '../sp500Constituents.csv', index_col = 'Symbol' )\n",
    "\n",
    "print( df.columns )\n",
    "\n",
    "sp500_constituents = df[ ['Market Cap'] ]\n",
    "\n",
    "sp500_marketCap = sp500_constituents.sort_values( by = 'Market Cap', ascending=False, axis = 0 )\n",
    "\n",
    "sp500_marketCap = sp500_marketCap[ : constituents_slice ]\n"
   ]
  },
  {
   "cell_type": "markdown",
   "metadata": {},
   "source": [
    "**Connecto to IB**"
   ]
  },
  {
   "cell_type": "code",
   "execution_count": 60,
   "metadata": {},
   "outputs": [],
   "source": [
    "#start ib_insync loop\n",
    "util.startLoop()\n",
    "\n",
    "ib = IB()\n",
    "\n",
    "if ib.isConnected() == False:\n",
    "    ib.connect('127.0.0.1', 7497, clientId=21, readonly=True )\n"
   ]
  },
  {
   "cell_type": "markdown",
   "metadata": {},
   "source": [
    "**Request contracts for SP500 subset**"
   ]
  },
  {
   "cell_type": "markdown",
   "metadata": {},
   "source": [
    "**Create contract for each stock in the subset**"
   ]
  },
  {
   "cell_type": "code",
   "execution_count": 62,
   "metadata": {},
   "outputs": [],
   "source": [
    "\n",
    "Contracts = [ Stock( s, 'SMART', currency='USD' ) for s in sp500_marketCap.index ]\n"
   ]
  },
  {
   "cell_type": "markdown",
   "metadata": {},
   "source": [
    "**Request contract validation**"
   ]
  },
  {
   "cell_type": "code",
   "execution_count": 63,
   "metadata": {},
   "outputs": [
    {
     "data": {
      "text/plain": [
       "[Stock(conId=265598, symbol='AAPL', exchange='SMART', primaryExchange='NASDAQ', currency='USD', localSymbol='AAPL', tradingClass='NMS'),\n",
       " Stock(conId=208813719, symbol='GOOGL', exchange='SMART', primaryExchange='NASDAQ', currency='USD', localSymbol='GOOGL', tradingClass='NMS')]"
      ]
     },
     "execution_count": 63,
     "metadata": {},
     "output_type": "execute_result"
    }
   ],
   "source": [
    "ib.qualifyContracts( *Contracts )"
   ]
  },
  {
   "cell_type": "markdown",
   "metadata": {},
   "source": [
    "**Get the tickers for each of the stock contracts. Requesting each ticker can take up to 11 seconds.**"
   ]
  },
  {
   "cell_type": "code",
   "execution_count": 64,
   "metadata": {},
   "outputs": [
    {
     "name": "stdout",
     "output_type": "stream",
     "text": [
      " 2 tickers returned out of 2 requested\n"
     ]
    },
    {
     "data": {
      "text/plain": [
       "True"
      ]
     },
     "execution_count": 64,
     "metadata": {},
     "output_type": "execute_result"
    }
   ],
   "source": [
    "    #105: avOptionVolume\n",
    "tickers = [ ib.reqMktData( c, '105') for c in Contracts ]\n",
    "print( ' {} tickers returned out of {} requested'.format( len(tickers), len(Contracts) ) )\n",
    "\n",
    "#wait for tickers to be filled\n",
    "ib.sleep(2)\n",
    "\n",
    "#[tickers] = [  ib.reqTickers( *Contracts )]"
   ]
  },
  {
   "cell_type": "markdown",
   "metadata": {},
   "source": [
    "**Apply option volume / nearing filters using ticker option volume data**\n"
   ]
  },
  {
   "cell_type": "code",
   "execution_count": 68,
   "metadata": {},
   "outputs": [
    {
     "data": {
      "text/plain": [
       "[Ticker(contract=Stock(conId=265598, symbol='AAPL', exchange='SMART', primaryExchange='NASDAQ', currency='USD', localSymbol='AAPL', tradingClass='NMS'), time=datetime.datetime(2020, 6, 11, 3, 22, 11, 479938, tzinfo=datetime.timezone.utc), bid=-1.0, bidSize=0, ask=-1.0, askSize=0, last=351.0, lastSize=9, volume=416665, open=347.97, high=354.77, low=346.09, close=343.99, halted=0.0, avOptionVolume=585563),\n",
       " Ticker(contract=Stock(conId=208813719, symbol='GOOGL', exchange='SMART', primaryExchange='NASDAQ', currency='USD', localSymbol='GOOGL', tradingClass='NMS'), time=datetime.datetime(2020, 6, 11, 3, 22, 11, 481693, tzinfo=datetime.timezone.utc), bid=-1.0, bidSize=0, ask=-1.0, askSize=0, last=1460.35, lastSize=1, volume=15881, open=1461.51, high=1472.77, low=1454.35, close=1452.08, halted=0.0, ticks=[TickData(time=datetime.datetime(2020, 6, 11, 3, 22, 11, 481693, tzinfo=datetime.timezone.utc), tickType=1, price=-1.0, size=0), TickData(time=datetime.datetime(2020, 6, 11, 3, 22, 11, 481693, tzinfo=datetime.timezone.utc), tickType=2, price=-1.0, size=0), TickData(time=datetime.datetime(2020, 6, 11, 3, 22, 11, 481693, tzinfo=datetime.timezone.utc), tickType=4, price=1460.35, size=1), TickData(time=datetime.datetime(2020, 6, 11, 3, 22, 11, 481693, tzinfo=datetime.timezone.utc), tickType=5, price=1460.35, size=1), TickData(time=datetime.datetime(2020, 6, 11, 3, 22, 11, 481693, tzinfo=datetime.timezone.utc), tickType=8, price=-1.0, size=15881), TickData(time=datetime.datetime(2020, 6, 11, 3, 22, 11, 481693, tzinfo=datetime.timezone.utc), tickType=6, price=1472.77, size=0), TickData(time=datetime.datetime(2020, 6, 11, 3, 22, 11, 481693, tzinfo=datetime.timezone.utc), tickType=7, price=1454.35, size=0), TickData(time=datetime.datetime(2020, 6, 11, 3, 22, 11, 481693, tzinfo=datetime.timezone.utc), tickType=9, price=1452.08, size=0), TickData(time=datetime.datetime(2020, 6, 11, 3, 22, 11, 481693, tzinfo=datetime.timezone.utc), tickType=14, price=1461.51, size=0), TickData(time=datetime.datetime(2020, 6, 11, 3, 22, 11, 481693, tzinfo=datetime.timezone.utc), tickType=49, price=0.0, size=0)])]"
      ]
     },
     "execution_count": 68,
     "metadata": {},
     "output_type": "execute_result"
    }
   ],
   "source": [
    "tickers"
   ]
  },
  {
   "cell_type": "code",
   "execution_count": 69,
   "metadata": {},
   "outputs": [
    {
     "name": "stdout",
     "output_type": "stream",
     "text": [
      "1 contracts remaining after average option volume filter\n"
     ]
    }
   ],
   "source": [
    "# apply option volume filter,  create 'symbol' : 'ticker dictionary'\n",
    "filteredTickers = { ticker.contract.symbol: ticker for ticker in tickers if ticker.avOptionVolume > min_option_volume }\n",
    "\n",
    "#create 'symbol' : 'contract' dictionary\n",
    "filteredContracts = { symbol: ticker.contract for ( symbol, ticker ) in filteredTickers.items() }\n",
    "\n",
    "print( '{} contracts remaining after average option volume filter'.format( len( filteredContracts ) ) )"
   ]
  },
  {
   "cell_type": "markdown",
   "metadata": {},
   "source": [
    "**Remove contracts with nearing earnings report**"
   ]
  },
  {
   "cell_type": "code",
   "execution_count": 70,
   "metadata": {},
   "outputs": [
    {
     "name": "stdout",
     "output_type": "stream",
     "text": [
      "minimum earning clear date requirement 2020-07-25 22:24:46.044380\n",
      "AAPL next earnings date: 2020-07-28 00:00:00 pass\n"
     ]
    }
   ],
   "source": [
    "# minimum earning clear date\n",
    "clearDateToEarnings = datetime.now() + timedelta( days = min_days_to_earnings )\n",
    "\n",
    "earningsFiltered = []\n",
    "\n",
    "print( 'minimum earning clear date requirement {}'.format( clearDateToEarnings) )\n",
    "\n",
    "for ( symbol, contract ) in filteredContracts.items():\n",
    "    #get calendar from wall street horizons\n",
    "    root = ET.fromstring( ib.reqFundamentalData( contract, 'CalendarReport' ) )\n",
    "\n",
    "    for earningsNode in root.iter('Earnings'):\n",
    "        dateNode = earningsNode.find( 'Date' )\n",
    "\n",
    "        if dateNode != None:\n",
    "            nextEarnigsDate = pd.to_datetime( dateNode.text )\n",
    "            if nextEarnigsDate < clearDateToEarnings:\n",
    "                #tag for removal\n",
    "                earningsFiltered.append( symbol )\n",
    "                print( '{} next earnings date: {} no pass'.format( symbol, nextEarnigsDate ) )\n",
    "            else:\n",
    "                print( '{} next earnings date: {} pass'.format(symbol, nextEarnigsDate ) )\n",
    "        else:\n",
    "            print( 'missing next earnings date for {}'.format(symbol) )\n",
    "\n",
    "#remove tagged\n",
    "for key in earningsFiltered:\n",
    "    filteredTickers.pop( key, None )\n",
    "    filteredContracts.pop( key, None )\n"
   ]
  },
  {
   "cell_type": "markdown",
   "metadata": {},
   "source": [
    "**Get option chains for each contract, filter by 'SMART' exchange**"
   ]
  },
  {
   "cell_type": "code",
   "execution_count": 71,
   "metadata": {},
   "outputs": [
    {
     "name": "stdout",
     "output_type": "stream",
     "text": [
      " 1 chains found of 1 requested\n"
     ]
    }
   ],
   "source": [
    "#get all chains\n",
    "chains = { symbol : ib.reqSecDefOptParams( symbol, '', contract.secType, contract.conId) \n",
    "         for ( symbol, contract ) in filteredContracts.items() }\n",
    "\n",
    "#leave only chains in 'SMART' exchange\n",
    "chains = { symbol : [ chain for chain in chainList if chain.exchange == 'SMART' ] for ( symbol, chainList ) in chains.items() }\n",
    "\n",
    "print( ' {} chains found of {} requested'.format( len(chains.keys()), len(filteredContracts.keys()) ) )\n",
    "\n"
   ]
  },
  {
   "cell_type": "code",
   "execution_count": 72,
   "metadata": {},
   "outputs": [],
   "source": [
    "newexpirations = [ exp for exp in chains['AAPL'][0].expirations if pd.to_datetime(exp) < option_expiration_limit ]\n"
   ]
  },
  {
   "cell_type": "markdown",
   "metadata": {},
   "source": [
    "From this point on we can build all PUT  option contracts that meet our conditions (Naked puts / Bull Put Spreads).\n",
    "\n",
    "Detail of implemented algorithm:\n",
    "  \n",
    "1. Iterate over stock option 'chains', select first chain.\n",
    "  1. filter the expirations list, limit to up to 3 month expirations.\n",
    "  2. filter strike list, limit to strikes below 'pct_under_px_range'\n",
    "  3. Explore remaining strike / expiriation combinations in filtered option chains:\n",
    "     1. **Chains / Expirations loop**. Iterate over chains/ expirations, select first chain/expiration (might be only one per chain):\n",
    "        1.  **Leg 1 loop**. Iterate over strikes, select leg 1 strike.\n",
    "            1. Combine selected strike with current expiration from outer loop.\n",
    "            2. Build Option contract.\n",
    "            3. Request market data (price) for 1st leg ontract.\n",
    "            4. Fix leg 1 contract for going to inner loop.\n",
    "                 1. **Leg 2 loop**. Iterate over strikes, select leg 2 strike\n",
    "                     1. Is strike < combo leg 1 strike? No : Discard / iterate again, Yes: Select it.\n",
    "                     2. Combine selected strike with current expiration from outer loop\n",
    "                     3. Build Option contract.\n",
    "                     4. Request market data (price) for 2nd leg contract.\n",
    "                     5. Calculate COMBO price (max profit) using 1st and 2nd leg market data.\n",
    "                     6. Is maximum profit > 'min_profit' from screener parameters? No: Discard.\n",
    "                     7. Calculate maximum loss using 1st and 2nd leg strike distance.\n",
    "                     8. Is maximum loss > 'max_risk' from screener parameters? Yes: Discard.\n",
    "                     9. Create 'COMBO' order,  request 'whatif' for price / margin information\n",
    "                    10. Save 'COMBO' order / legs / ROC etc in local **results** data frame.\n",
    "            5. Continue loop to step 1 in **Leg 1 loop**.\n",
    "        2. Save local **results** array into **combosByChain** dictionary.\n",
    "        3. Continue loop to step 1 in **Chains / Expirations loop**.\n",
    "  4. Results are stored in 'combosByContract' dictionary."
   ]
  },
  {
   "cell_type": "code",
   "execution_count": 73,
   "metadata": {},
   "outputs": [],
   "source": [
    "# prepare 'num_month_expiries' datetime object\n",
    "curdate = datetime.now()\n",
    "delta_forward = timedelta( weeks = num_month_expiries*4 )\n",
    "option_expiration_limit = curdate + delta_forward\n"
   ]
  },
  {
   "cell_type": "markdown",
   "metadata": {},
   "source": [
    "## Filter option chains\n",
    "\n",
    "Filter option chains for filtered contracts according to:\n",
    "* **'pct_under_px_range'** (percentage below price)  \n",
    "* **'option_expiration_limit'** (option expiration)"
   ]
  },
  {
   "cell_type": "code",
   "execution_count": 74,
   "metadata": {},
   "outputs": [
    {
     "name": "stdout",
     "output_type": "stream",
     "text": [
      "strike / expiration option chain complete for 1 chains\n"
     ]
    }
   ],
   "source": [
    "# filter chains strikes / expirations:\n",
    "\n",
    "adjustedContractChains = {}\n",
    "\n",
    "for ( symbol, contract ) in filteredContracts.items():\n",
    "\n",
    "    adjustedChains = []\n",
    "    \n",
    "    curChains = chains[ symbol ]\n",
    "    curPrice = filteredTickers[ symbol ].marketPrice() # might need to replace by 'saved' value\n",
    "        \n",
    "    #usually only one chain ('SMART' exchange)\n",
    "    for chain in curChains:\n",
    "        \n",
    "        #filter expirations ('option_expiration_limit')\n",
    "        newexpirations = [ exp for exp in chain.expirations if pd.to_datetime(exp) < option_expiration_limit ]\n",
    "        \n",
    "        #filter strikes ('pct_under_px_range')\n",
    "        newstrikes = [ s for s in chain.strikes if s > ( curPrice * ( 1 - pct_under_px_range ) ) and s <= curPrice ]\n",
    "\n",
    "        #OptionChain is 'NamedTuple' (not mutable)\n",
    "        adjustedChain = OptionChain( chain.exchange, \n",
    "                                    chain.underlyingConId,\n",
    "                                    chain.tradingClass,\n",
    "                                    chain.multiplier,\n",
    "                                    newexpirations,\n",
    "                                    newstrikes)\n",
    "        #adjustedChain.strikes = newstrikes\n",
    "        adjustedChains.append( adjustedChain )\n",
    "    \n",
    "    adjustedContractChains.update( { symbol : adjustedChains } )\n",
    "    \n",
    "print(\"strike / expiration option chain complete for {} chains\".format( len(adjustedContractChains) ) )"
   ]
  },
  {
   "cell_type": "markdown",
   "metadata": {},
   "source": [
    "### Combo screening\n",
    "\n",
    "Create L1/L2 combo orders, calculate prices, filter by min_profit, max_loss, save into **combosByContract** / **combosByChain** dictionaries\n"
   ]
  },
  {
   "cell_type": "code",
   "execution_count": null,
   "metadata": {},
   "outputs": [
    {
     "name": "stdout",
     "output_type": "stream",
     "text": [
      "27 tickers received for expiration 20200612 in contract chain\n"
     ]
    }
   ],
   "source": [
    "# screened contracts will be placed here, one list per contract\n",
    "# { symbol : [ { expiration : dataframe }, ... ] }\n",
    "combosByContract = {}\n",
    "combosByChain = {}\n",
    "\n",
    "\n",
    "# Create / Filter combos\n",
    "for ( symbol, contract ) in filteredContracts.items():\n",
    "\n",
    "    for chain in adjustedContractChains[ symbol ]:\n",
    "            \n",
    "        # ----- expirations loop -----\n",
    "        for exp in chain.expirations:\n",
    "            \n",
    "            # results per expiration\n",
    "            results = []\n",
    "\n",
    "            #create contracts for all strikes\n",
    "            comboContracts = [Option(contract.symbol, exp, strike, 'P', contract.exchange )\n",
    "                    for strike in chain.strikes]\n",
    "\n",
    "            comboContracts = ib.qualifyContracts( *comboContracts )\n",
    "\n",
    "            # should be less than 100 requests (request limit)\n",
    "            comboTickers = ib.reqTickers( *comboContracts )\n",
    "\n",
    "            print( '{} tickers received for expiration {} in contract chain'.format( len(comboTickers), exp, symbol ) )\n",
    "\n",
    "            # ---- leg1 loop ----\n",
    "            for leg1Ticker in comboTickers:\n",
    "                leg1Price = leg1Ticker.marketPrice()\n",
    "                leg1Strike = leg1Ticker.contract.strike\n",
    "                 # early filter leg1 by min_profit\n",
    "                if( ( leg1Price * int(chain.multiplier) ) < min_profit ):\n",
    "                    comboContracts.remove(leg1Ticker.contract)\n",
    "                else:\n",
    "                    #fix leg 1\n",
    "                    leg1 = ComboLeg(conId=leg1Ticker.contract.conId, \n",
    "                                    ratio= 1, \n",
    "                                    action='SELL', \n",
    "                                    exchange=leg1Ticker.contract.exchange )\n",
    "                    # ---- leg 2 loop ----\n",
    "                    for leg2Ticker in comboTickers:\n",
    "                        leg2Strike = leg2Ticker.contract.strike\n",
    "                        if( leg2Ticker.contract.strike < leg1Strike ):\n",
    "                            leg2Price = leg2Ticker.marketPrice()\n",
    "                            #leg2 hedge should cost less than leg1\n",
    "                            comboPrice = ( leg1Price - leg2Price ) * int(chain.multiplier)\n",
    "\n",
    "                            if ( comboPrice < max_loss ) and \\\n",
    "                            ( comboPrice > min_profit ):\n",
    "\n",
    "                                leg2 = ComboLeg( conId=leg2Ticker.contract.conId,  \n",
    "                                                ratio=1,\n",
    "                                                action='BUY',\n",
    "                                                exchange=leg2Ticker.contract.exchange )\n",
    "\n",
    "                                #create 'combo contract'\n",
    "                                combo = Contract( symbol=leg1Ticker.contract.symbol,#check!! \n",
    "                                                 secType='BAG', \n",
    "                                                 currency='USD', \n",
    "                                                 exchange=leg1Ticker.contract.exchange, \n",
    "                                                 comboLegs=[leg1, leg2])\n",
    "\n",
    "                                order = MarketOrder( action=\"BUY\", \n",
    "                                                   totalQuantity = 1 )\n",
    "\n",
    "                                #this method is blocking\n",
    "                                orderState = ib.whatIfOrder( combo, order )\n",
    "\n",
    "                                roc = comboPrice / float(orderState.maintMarginChange)\n",
    "\n",
    "                                #model greeks might not be pupulated (check)\n",
    "                                if leg1Ticker.modelGreeks != None :\n",
    "                                    leg1IV = leg1Ticker.modelGreeks.impliedVol\n",
    "                                    leg2IV = leg2Ticker.modelGreeks.impliedVol\n",
    "                                else:\n",
    "                                    leg1IV = float('nan')\n",
    "                                    leg2IV = float('nan')\n",
    "\n",
    "\n",
    "\n",
    "                                results.append( [ leg1Strike,\n",
    "                                                   leg1Ticker.contract.conId,\n",
    "                                                   leg1IV,\n",
    "                                                   leg2Strike,\n",
    "                                                   leg2Ticker.contract.conId,\n",
    "                                                   leg2IV,\n",
    "                                                   comboPrice,\n",
    "                                                   float(orderState.maintMarginChange),\n",
    "                                                   roc ] )\n",
    "\n",
    "\n",
    "            combos_df = pd.DataFrame( data = results, columns=[ 'leg1Strike', \n",
    "                                                                'leg1ContractId',\n",
    "                                                                'leg1IV',\n",
    "                                                                'leg2Strike',\n",
    "                                                                'leg2ContractId',\n",
    "                                                                'leg2IV',\n",
    "                                                                'maxProfit',\n",
    "                                                                'margin',\n",
    "                                                                'ROC' ] )\n",
    "\n",
    "            print( '{} combos found for {} contract chain with expiration {}'.format( \\\n",
    "                len( combos_df.index ), symbol, exp ) )\n",
    "\n",
    "            combosByChain.update( { exp : combos_df } )\n",
    "                        \n",
    "    combosByContract.update( { symbol : combosByChain } )"
   ]
  },
  {
   "cell_type": "markdown",
   "metadata": {},
   "source": [
    "## RESULTS\n",
    "\n",
    "At this point we should have:\n",
    "\n",
    "- **combosByContract** : dictionary, all combos per expiration grouped by contracts\n",
    "- **combosByContract** : dictionary, all combos grouped by expiration\n",
    "\n",
    "\n",
    "TODO:\n",
    "- **IvRanks**: dictionary, ivRanks for each of the possible underlying contracts\n",
    "\n",
    "It should be straightforward to analyze and visually represent the best strategies."
   ]
  },
  {
   "cell_type": "code",
   "execution_count": 29,
   "metadata": {},
   "outputs": [],
   "source": [
    "ib.disconnect()"
   ]
  }
 ],
 "metadata": {
  "kernelspec": {
   "display_name": "Python 3",
   "language": "python",
   "name": "python3"
  },
  "language_info": {
   "codemirror_mode": {
    "name": "ipython",
    "version": 3
   },
   "file_extension": ".py",
   "mimetype": "text/x-python",
   "name": "python",
   "nbconvert_exporter": "python",
   "pygments_lexer": "ipython3",
   "version": "3.6.10"
  }
 },
 "nbformat": 4,
 "nbformat_minor": 4
}
